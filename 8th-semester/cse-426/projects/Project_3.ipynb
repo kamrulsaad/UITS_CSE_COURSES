{
  "nbformat": 4,
  "nbformat_minor": 0,
  "metadata": {
    "colab": {
      "provenance": [],
      "include_colab_link": true
    },
    "kernelspec": {
      "name": "python3",
      "display_name": "Python 3"
    },
    "language_info": {
      "name": "python"
    }
  },
  "cells": [
    {
      "cell_type": "markdown",
      "metadata": {
        "id": "view-in-github",
        "colab_type": "text"
      },
      "source": [
        "<a href=\"https://colab.research.google.com/github/kamrulsaad/UITS_CSE_COURSES/blob/main/8th-semester/cse-426/projects/Project_3.ipynb\" target=\"_parent\"><img src=\"https://colab.research.google.com/assets/colab-badge.svg\" alt=\"Open In Colab\"/></a>"
      ]
    },
    {
      "cell_type": "markdown",
      "source": [
        "ID: 2125051041\n",
        "\n",
        "Name: Kamrul Huda Sattari Saad"
      ],
      "metadata": {
        "id": "GtdDfK_N3aYM"
      }
    },
    {
      "cell_type": "markdown",
      "source": [
        "# Importing libraries and dataset"
      ],
      "metadata": {
        "id": "5HJYxklhepF2"
      }
    },
    {
      "cell_type": "code",
      "execution_count": 6,
      "metadata": {
        "id": "O8cLL77_P2CQ"
      },
      "outputs": [],
      "source": [
        "import networkx as nx\n",
        "import numpy as np\n",
        "import pandas as pd\n",
        "import requests\n",
        "from bs4 import BeautifulSoup"
      ]
    },
    {
      "cell_type": "code",
      "source": [
        "import nltk\n",
        "from nltk.corpus import stopwords\n",
        "\n",
        "nltk.download('stopwords')\n",
        "\n",
        "STOPWORDS = set(stopwords.words('english'))\n",
        "print(STOPWORDS)"
      ],
      "metadata": {
        "colab": {
          "base_uri": "https://localhost:8080/"
        },
        "id": "iLst5Y--TWYc",
        "outputId": "57435bd6-e9ad-4bbc-b6ba-624477a00ef9"
      },
      "execution_count": 7,
      "outputs": [
        {
          "output_type": "stream",
          "name": "stdout",
          "text": [
            "{'here', 'between', \"aren't\", \"won't\", 'i', 'needn', 'it', 'an', 'too', \"you're\", 'shan', 'not', 'they', \"we're\", 'herself', 'own', 'up', 'her', 'there', 'don', \"wasn't\", \"couldn't\", 'my', \"isn't\", 'more', 'our', \"she'll\", \"he'll\", 'other', 'over', 'such', 'by', \"they're\", 'why', \"you'll\", 'ma', 'his', 'only', 'again', 'aren', 'am', 'haven', 'few', 'myself', 'whom', \"they'd\", 'this', 'no', 'in', \"hadn't\", 'doing', \"doesn't\", 'm', 'do', 'under', 'very', 'yours', 'these', \"it's\", \"it'd\", \"we'd\", 'has', 'all', 'and', 'out', 'while', 'at', 'about', 'below', \"shan't\", 'before', 'themselves', 'some', \"you'd\", 'each', \"i'm\", 'mightn', \"they'll\", 'mustn', 'both', 'was', 'wouldn', 'then', 'a', 'ain', 'into', 'weren', 'on', 'just', \"hasn't\", 'ourselves', 'than', 'when', 'during', 'but', 'are', 'their', 'should', 'shouldn', 'them', \"i've\", 'or', 'most', 'because', 'after', 'from', 'nor', 'is', 's', 'that', 'those', 'hadn', 'your', 'can', \"don't\", 'we', 'isn', 'with', 'wasn', \"haven't\", \"should've\", 're', \"needn't\", 'me', 'ours', 'what', 'will', 'until', 'now', 'its', 'does', 'above', 'she', \"you've\", 'been', 'off', 'be', 'once', \"she'd\", 'have', 'where', 'doesn', \"mightn't\", \"shouldn't\", 'which', 't', 've', \"we've\", 'were', \"she's\", \"weren't\", 'itself', 'did', 'having', 'further', 'd', 'won', 'y', 'through', 'himself', 'couldn', 'same', 'had', 'who', 'hasn', 'being', 'as', 'for', \"didn't\", \"wouldn't\", 'll', 'so', 'yourselves', 'how', \"they've\", \"i'd\", 'didn', 'the', 'against', 'to', \"we'll\", \"he'd\", 'if', \"i'll\", 'yourself', \"it'll\", 'he', 'of', \"he's\", 'any', 'theirs', 'you', 'o', 'hers', 'down', 'him', \"mustn't\", \"that'll\"}\n"
          ]
        },
        {
          "output_type": "stream",
          "name": "stderr",
          "text": [
            "[nltk_data] Downloading package stopwords to /root/nltk_data...\n",
            "[nltk_data]   Package stopwords is already up-to-date!\n"
          ]
        }
      ]
    },
    {
      "cell_type": "code",
      "source": [
        "from collections import defaultdict\n",
        "\n",
        "# Inverted index: word -> set of URLs\n",
        "inverted_index = defaultdict(set)\n",
        "url_list = set()"
      ],
      "metadata": {
        "id": "Zl5mLhOeTbOc"
      },
      "execution_count": 8,
      "outputs": []
    },
    {
      "cell_type": "code",
      "source": [
        "# This dictionary will be used to build the connection between links\n",
        "web_connection = {'source':[], 'target':[]}"
      ],
      "metadata": {
        "id": "KZvdYlUJTdf0"
      },
      "execution_count": 9,
      "outputs": []
    },
    {
      "cell_type": "code",
      "source": [
        "import re\n",
        "# This function will clean the content of web page in order to build the inverted index.\n",
        "def clean_and_tokenize(text):\n",
        "    text = re.sub(r'[^a-zA-Z0-9\\s]', '', text.lower())  # Remove punctuation and lowercase\n",
        "    tokens = text.split()\n",
        "    return [t for t in tokens if t not in STOPWORDS and len(t) > 1]"
      ],
      "metadata": {
        "id": "2af6NrNUTfl9"
      },
      "execution_count": 10,
      "outputs": []
    },
    {
      "cell_type": "code",
      "source": [
        "from urllib.parse import urljoin, urlparse\n",
        "# The crawl function has 5 parameters\n",
        "# url = The url to crawl\n",
        "# base_domain = the base domain of the url. During crawling, the crawler will ignore links from other domains\n",
        "\n",
        "def crawl(url, base_domain, visited, visit_limit, limit):\n",
        "    if limit==0 or len(visited)==visit_limit:\n",
        "        return\n",
        "\n",
        "    try:\n",
        "        response = requests.get(url, timeout=5)\n",
        "        if response.status_code != 200:\n",
        "            return\n",
        "    except requests.RequestException:\n",
        "        return\n",
        "\n",
        "    visited.add(url)\n",
        "    print(\"-\"*(10-limit), end=\" \")\n",
        "    print(f\"Crawled: {url}\")\n",
        "\n",
        "    soup = BeautifulSoup(response.text, 'html.parser')\n",
        "    text = soup.get_text(separator=' ', strip=True)\n",
        "    words = clean_and_tokenize(text)\n",
        "\n",
        "    for word in words:\n",
        "        inverted_index[word].add(url)\n",
        "        url_list.add(url)\n",
        "\n",
        "    # Recursively follow links\n",
        "    for tag in soup.find_all('a', href=True):\n",
        "        link = urljoin(url, tag['href'])\n",
        "        parsed = urlparse(link)\n",
        "\n",
        "        # Store external links as connection\n",
        "        web_connection['source'].append(url)\n",
        "        web_connection['target'].append(link)\n",
        "\n",
        "        if parsed.netloc == base_domain and link not in visited:\n",
        "            crawl(link, base_domain, visited, visit_limit, limit-1)"
      ],
      "metadata": {
        "id": "k7LVH8l-Tncs"
      },
      "execution_count": 11,
      "outputs": []
    },
    {
      "cell_type": "code",
      "source": [
        "def crawl_roots(root_urls, max_per_root=2, visit_limit=50):\n",
        "    for root in root_urls:\n",
        "        print(f\"\\nStarting crawl from: {root}\")\n",
        "        domain = urlparse(root).netloc\n",
        "        visited = set()\n",
        "        crawl(root, domain, visited, visit_limit, max_per_root)"
      ],
      "metadata": {
        "id": "DlA8RD7iTpvU"
      },
      "execution_count": 12,
      "outputs": []
    },
    {
      "cell_type": "code",
      "source": [
        "seed_urls = [\n",
        "    'https://www.edx.org',\n",
        "    'https://www.udemy.com',\n",
        "    'https://www.thinkific.com',\n",
        "    'https://www.teachable.com',\n",
        "    'https://www.learnworlds.com',\n",
        "    'https://www.hippovideo.io',\n",
        "    'https://www.dacast.com',\n",
        "    'https://www.muvi.com',\n",
        "    'https://www.proxlearn.com',\n",
        "    'https://fullmind.com',\n",
        "]\n",
        "\n",
        "crawl_roots(seed_urls, max_per_root=2)"
      ],
      "metadata": {
        "colab": {
          "base_uri": "https://localhost:8080/"
        },
        "id": "g-Qz0mKrTrNU",
        "outputId": "b04ef033-1954-4029-ecd1-317a5752d7e3"
      },
      "execution_count": 13,
      "outputs": [
        {
          "output_type": "stream",
          "name": "stdout",
          "text": [
            "\n",
            "Starting crawl from: https://www.edx.org\n",
            "-------- Crawled: https://www.edx.org\n",
            "--------- Crawled: https://www.edx.org/\n",
            "--------- Crawled: https://www.edx.org/learn/computer-science/harvard-university-cs50-s-introduction-to-computer-science\n",
            "--------- Crawled: https://www.edx.org/executive-education/massachusetts-institute-of-technology-artificial-intelligence-implications-for-business-strategy\n",
            "--------- Crawled: https://www.edx.org/masters/micromasters/mitx-supply-chain-management\n",
            "--------- Crawled: https://www.edx.org/learn/government/harvard-university-american-government-constitutional-foundations\n",
            "--------- Crawled: https://www.edx.org/learn/democracy/harvard-university-we-the-people-civic-engagement-in-a-constitutional-democracy\n",
            "--------- Crawled: https://www.edx.org/search?q=data science\n",
            "--------- Crawled: https://www.edx.org/search?q=ai\n",
            "--------- Crawled: https://www.edx.org/search?q=finance\n",
            "--------- Crawled: https://www.edx.org/search?q=business\n",
            "--------- Crawled: https://www.edx.org/search\n",
            "--------- Crawled: https://www.edx.org/level-up-promo\n",
            "--------- Crawled: https://www.edx.org/learn/artificial-intelligence\n",
            "--------- Crawled: https://www.edx.org/learn/chatgpt\n",
            "--------- Crawled: https://www.edx.org/learn/spanish\n",
            "--------- Crawled: https://www.edx.org/learn/python\n",
            "--------- Crawled: https://www.edx.org/learn/excel\n",
            "--------- Crawled: https://www.edx.org/learn/software-engineering\n",
            "--------- Crawled: https://www.edx.org/learn/blockchain\n",
            "--------- Crawled: https://www.edx.org/learn/computer-programming\n",
            "--------- Crawled: https://www.edx.org/learn/economics\n",
            "--------- Crawled: https://www.edx.org/learn/architecture\n",
            "--------- Crawled: https://www.edx.org/learn/project-management\n",
            "--------- Crawled: https://www.edx.org/learn/business-administration\n",
            "--------- Crawled: https://www.edx.org/learn\n",
            "--------- Crawled: https://www.edx.org/become/how-to-become-a-cybersecurity-analyst\n",
            "--------- Crawled: https://www.edx.org/become/how-to-become-a-data-scientist\n",
            "--------- Crawled: https://www.edx.org/become/how-to-become-a-social-media-manager\n",
            "--------- Crawled: https://www.edx.org/become/how-to-become-a-software-developer\n",
            "--------- Crawled: https://www.edx.org/become/how-to-become-a-software-engineer-without-a-degree\n",
            "--------- Crawled: https://www.edx.org/become\n",
            "--------- Crawled: https://www.edx.org/bachelors/business\n",
            "--------- Crawled: https://www.edx.org/bachelors/computer-data-sciences\n",
            "--------- Crawled: https://www.edx.org/bachelors/health-social-services\n",
            "--------- Crawled: https://www.edx.org/bachelors/online-accounting-bachelor-degree\n",
            "--------- Crawled: https://www.edx.org/bachelors/online-bachelors-degree-finance\n",
            "--------- Crawled: https://www.edx.org/bachelors/psychology\n",
            "--------- Crawled: https://www.edx.org/bachelors/bachelors-in-public-health-online\n",
            "--------- Crawled: https://www.edx.org/bachelors/social-work-bsw\n",
            "--------- Crawled: https://www.edx.org/bachelors\n",
            "--------- Crawled: https://www.edx.org/masters/online-mba\n",
            "--------- Crawled: https://www.edx.org/masters/masters-in-public-health-online\n",
            "--------- Crawled: https://www.edx.org/masters/online-msw-programs\n",
            "--------- Crawled: https://www.edx.org/masters/online-msn-programs\n",
            "--------- Crawled: https://www.edx.org/masters/online-masters-in-data-science\n",
            "--------- Crawled: https://www.edx.org/masters/online-masters-in-engineering\n",
            "--------- Crawled: https://www.edx.org/masters/online-slp-programs\n",
            "--------- Crawled: https://www.edx.org/masters/healthcare\n",
            "--------- Crawled: https://www.edx.org/masters/masters-in-education-online\n",
            "\n",
            "Starting crawl from: https://www.udemy.com\n",
            "-------- Crawled: https://www.udemy.com\n",
            "--------- Crawled: https://www.udemy.com/\n",
            "--------- Crawled: https://www.udemy.com/cart/\n",
            "--------- Crawled: https://www.udemy.com/ai-roleplay/\n",
            "--------- Crawled: https://www.udemy.com/mobile/\n",
            "--------- Crawled: https://www.udemy.com/invite/\n",
            "--------- Crawled: https://www.udemy.com/browse/certification/\n",
            "--------- Crawled: https://www.udemy.com#main-content-anchor\n",
            "--------- Crawled: https://www.udemy.com/featured-topics/\n",
            "\n",
            "Starting crawl from: https://www.thinkific.com\n",
            "-------- Crawled: https://www.thinkific.com\n",
            "--------- Crawled: https://www.thinkific.com/\n",
            "--------- Crawled: https://www.thinkific.com/solutions/subject-matter-experts/\n",
            "--------- Crawled: https://www.thinkific.com/solutions/academies/\n",
            "--------- Crawled: https://www.thinkific.com/solutions/market-leaders-companies/\n",
            "--------- Crawled: https://www.thinkific.com/solutions/revenue-generation/\n",
            "--------- Crawled: https://www.thinkific.com/solutions/customer-training/\n",
            "--------- Crawled: https://www.thinkific.com/solutions/lead-generation/\n",
            "--------- Crawled: https://www.thinkific.com/plus/\n",
            "--------- Crawled: https://www.thinkific.com/features/courses/\n",
            "--------- Crawled: https://www.thinkific.com/features/learning-communities/\n",
            "--------- Crawled: https://www.thinkific.com/features/digital-downloads/\n",
            "--------- Crawled: https://www.thinkific.com/features/memberships/\n",
            "--------- Crawled: https://www.thinkific.com/features/coaching-webinars/\n",
            "--------- Crawled: https://www.thinkific.com/features/landing-pages/\n",
            "--------- Crawled: https://www.thinkific.com/features/email-automation/\n",
            "--------- Crawled: https://www.thinkific.com/features/analytics/\n",
            "--------- Crawled: https://www.thinkific.com/features/branded-mobile/\n",
            "--------- Crawled: https://www.thinkific.com/features/thinkific-payments/\n",
            "--------- Crawled: https://www.thinkific.com/features/selling-tools/\n",
            "--------- Crawled: https://www.thinkific.com/features/time-saving-tools/\n",
            "--------- Crawled: https://www.thinkific.com/pricing/\n",
            "--------- Crawled: https://www.thinkific.com/resources/\n",
            "--------- Crawled: https://www.thinkific.com/case-studies/\n",
            "--------- Crawled: https://www.thinkific.com/blog/\n",
            "--------- Crawled: https://www.thinkific.com/experts/\n",
            "--------- Crawled: https://www.thinkific.com/examples/\n",
            "--------- Crawled: https://www.thinkific.com/plus/plus-customer-enquiries/\n",
            "--------- Crawled: https://www.thinkific.com/case-studies/miss-excel-online-course-tiktok-launch/\n",
            "--------- Crawled: https://www.thinkific.com/case-studies/hootsuite/\n",
            "--------- Crawled: https://www.thinkific.com/case-studies/keap/\n",
            "--------- Crawled: https://www.thinkific.com/case-studies/chargebee/\n",
            "--------- Crawled: https://www.thinkific.com/case-studies/flashpoint/\n",
            "--------- Crawled: https://www.thinkific.com/case-studies/easily-excel-success-story/\n",
            "--------- Crawled: https://www.thinkific.com/case-studies/baking-business-success-story/\n",
            "--------- Crawled: https://www.thinkific.com/case-studies/schudio/\n",
            "--------- Crawled: https://www.thinkific.com/about/\n",
            "--------- Crawled: https://www.thinkific.com/press/\n",
            "--------- Crawled: https://www.thinkific.com/careers/\n",
            "--------- Crawled: https://www.thinkific.com/security-overview/\n",
            "--------- Crawled: https://www.thinkific.com/legal/\n",
            "--------- Crawled: https://www.thinkific.com/terms-of-service/\n",
            "--------- Crawled: https://www.thinkific.com/partners/\n",
            "--------- Crawled: https://www.thinkific.com/affiliates/\n",
            "--------- Crawled: https://www.thinkific.com/plus/referacustomer/\n",
            "--------- Crawled: https://www.thinkific.com/faq/\n",
            "--------- Crawled: https://www.thinkific.com/privacy-policy/\n",
            "--------- Crawled: https://www.thinkific.com/cookies-policy/\n",
            "\n",
            "Starting crawl from: https://www.teachable.com\n",
            "-------- Crawled: https://www.teachable.com\n",
            "--------- Crawled: https://www.teachable.com/\n",
            "--------- Crawled: https://www.teachable.com/online-courses\n",
            "--------- Crawled: https://www.teachable.com/coaching\n",
            "--------- Crawled: https://www.teachable.com/digital-downloads\n",
            "--------- Crawled: https://www.teachable.com/memberships\n",
            "--------- Crawled: https://www.teachable.com/community\n",
            "--------- Crawled: https://www.teachable.com/products\n",
            "--------- Crawled: https://www.teachable.com/sales-and-marketing\n",
            "--------- Crawled: https://www.teachable.com/pay\n",
            "--------- Crawled: https://www.teachable.com/analytics-and-reporting\n",
            "--------- Crawled: https://www.teachable.com/creator-support-services\n",
            "--------- Crawled: https://www.teachable.com/site-builder\n",
            "--------- Crawled: https://www.teachable.com/mobile-app\n",
            "--------- Crawled: https://www.teachable.com/ai-hub\n",
            "--------- Crawled: https://www.teachable.com/app-hub\n",
            "--------- Crawled: https://www.teachable.com/student-experience\n",
            "--------- Crawled: https://www.teachable.com/advanced-features\n",
            "--------- Crawled: https://www.teachable.com/features\n",
            "--------- Crawled: https://www.teachable.com/start-your-business\n",
            "--------- Crawled: https://www.teachable.com/grow-your-business\n",
            "--------- Crawled: https://www.teachable.com/expand-your-business\n",
            "--------- Crawled: https://www.teachable.com/teachable-for-business\n",
            "--------- Crawled: https://www.teachable.com/industry/marketing-and-business\n",
            "--------- Crawled: https://www.teachable.com/industry/health-and-fitness\n",
            "--------- Crawled: https://www.teachable.com/industry/personal-development\n",
            "--------- Crawled: https://www.teachable.com/industry/lifestyle\n",
            "--------- Crawled: https://www.teachable.com/industry/academics-and-languages\n",
            "--------- Crawled: https://www.teachable.com/industry/finance-and-investing\n",
            "--------- Crawled: https://www.teachable.com/industry/arts-and-crafting\n",
            "--------- Crawled: https://www.teachable.com/industry/software-and-technology\n",
            "--------- Crawled: https://www.teachable.com/industry/spirituality-and-worship\n",
            "--------- Crawled: https://www.teachable.com/industry/fashion-and-beauty\n",
            "--------- Crawled: https://www.teachable.com/guides-and-how-tos\n",
            "--------- Crawled: https://www.teachable.com/teachable-u\n",
            "--------- Crawled: https://www.teachable.com/blog\n",
            "--------- Crawled: https://www.teachable.com/9to5-quitters-club\n",
            "--------- Crawled: https://www.teachable.com/events\n",
            "--------- Crawled: https://www.teachable.com/resources\n",
            "--------- Crawled: https://www.teachable.com/watch-demo\n",
            "--------- Crawled: https://www.teachable.com/experts\n",
            "--------- Crawled: https://www.teachable.com/b/news/creator-stories\n",
            "--------- Crawled: https://www.teachable.com/examples\n",
            "--------- Crawled: https://www.teachable.com/staff-picks\n",
            "--------- Crawled: https://www.teachable.com/pricing\n",
            "--------- Crawled: https://www.teachable.com/about\n",
            "--------- Crawled: https://www.teachable.com/careers\n",
            "--------- Crawled: https://www.teachable.com/press\n",
            "--------- Crawled: https://www.teachable.com/partners\n",
            "--------- Crawled: https://www.teachable.com/house-rules\n",
            "\n",
            "Starting crawl from: https://www.learnworlds.com\n",
            "-------- Crawled: https://www.learnworlds.com\n",
            "--------- Crawled: https://www.learnworlds.com/\n",
            "--------- Crawled: https://www.learnworlds.com/for-business\n",
            "--------- Crawled: https://www.learnworlds.com/getstarted\n",
            "--------- Crawled: https://www.learnworlds.com/watch-demo\n",
            "--------- Crawled: https://www.learnworlds.com/flexible-courses\n",
            "--------- Crawled: https://www.learnworlds.com/ai\n",
            "--------- Crawled: https://www.learnworlds.com/interactive-video\n",
            "--------- Crawled: https://www.learnworlds.com/live-sessions\n",
            "--------- Crawled: https://www.learnworlds.com/assessment-builder\n",
            "--------- Crawled: https://www.learnworlds.com/survey-builder\n",
            "--------- Crawled: https://www.learnworlds.com/website-builder\n",
            "--------- Crawled: https://www.learnworlds.com/mobile-app\n",
            "--------- Crawled: https://www.learnworlds.com/popup-builder\n",
            "--------- Crawled: https://www.learnworlds.com/custom-user-roles\n",
            "--------- Crawled: https://www.learnworlds.com/analytics-and-reports\n",
            "--------- Crawled: https://www.learnworlds.com/white-label-website\n",
            "--------- Crawled: https://www.learnworlds.com/marketing-tools\n",
            "--------- Crawled: https://www.learnworlds.com/scorm\n",
            "--------- Crawled: https://www.learnworlds.com/checkout-and-payments\n",
            "--------- Crawled: https://www.learnworlds.com/bundles-and-subscriptions\n",
            "--------- Crawled: https://www.learnworlds.com/affiliates\n",
            "--------- Crawled: https://www.learnworlds.com/integrations\n",
            "--------- Crawled: https://www.learnworlds.com/all-features\n",
            "--------- Crawled: https://www.learnworlds.com/improvpiano\n",
            "--------- Crawled: https://www.learnworlds.com/calisthenics\n",
            "--------- Crawled: https://www.learnworlds.com/learning-liaisons\n",
            "--------- Crawled: https://www.learnworlds.com/droneit\n",
            "--------- Crawled: https://www.learnworlds.com/nailarts\n",
            "--------- Crawled: https://www.learnworlds.com/case-studies\n",
            "--------- Crawled: https://www.learnworlds.com/customer-training-lms\n",
            "--------- Crawled: https://www.learnworlds.com/enterprise-lms\n",
            "--------- Crawled: https://www.learnworlds.com/non-profit\n",
            "--------- Crawled: https://www.learnworlds.com/creators\n",
            "--------- Crawled: https://www.learnworlds.com/coaching\n",
            "--------- Crawled: https://www.learnworlds.com/fitness\n",
            "--------- Crawled: https://www.learnworlds.com/finance\n",
            "--------- Crawled: https://www.learnworlds.com/health\n",
            "--------- Crawled: https://www.learnworlds.com/employee-training-lms\n",
            "--------- Crawled: https://www.learnworlds.com/solutions\n",
            "--------- Crawled: https://www.learnworlds.com/pricing/\n",
            "--------- Crawled: https://www.learnworlds.com/experts-directory/\n",
            "--------- Crawled: https://www.learnworlds.com/daily-webinars\n",
            "--------- Crawled: https://www.learnworlds.com/ai-central\n",
            "--------- Crawled: https://www.learnworlds.com/blog\n",
            "--------- Crawled: https://www.learnworlds.com/how-to-sell-corporate-training-programs/\n",
            "--------- Crawled: https://www.learnworlds.com/how-to-build-a-coaching-program/\n",
            "--------- Crawled: https://www.learnworlds.com/best-retail-lms/\n",
            "--------- Crawled: https://www.learnworlds.com/built-smarter-academy/\n",
            "--------- Crawled: https://www.learnworlds.com/resources\n",
            "\n",
            "Starting crawl from: https://www.hippovideo.io\n",
            "-------- Crawled: https://www.hippovideo.io\n",
            "--------- Crawled: https://www.hippovideo.io/index.html\n",
            "--------- Crawled: https://www.hippovideo.io/video-for-sales-and-prospecting.html\n",
            "--------- Crawled: https://www.hippovideo.io/team-communication.html\n",
            "--------- Crawled: https://www.hippovideo.io/video-marketing.html\n",
            "--------- Crawled: https://www.hippovideo.io/products/video-campaigns.html\n",
            "--------- Crawled: https://www.hippovideo.io/customersupport.html\n",
            "--------- Crawled: https://www.hippovideo.io/products/video-sdk.html\n",
            "--------- Crawled: https://www.hippovideo.io/faq.html\n",
            "--------- Crawled: https://www.hippovideo.io/video-selling-resources.html\n",
            "--------- Crawled: https://www.hippovideo.io/product-tour.html\n",
            "--------- Crawled: https://www.hippovideo.io/free.html\n",
            "--------- Crawled: https://www.hippovideo.io/integrations/gong.html\n",
            "--------- Crawled: https://www.hippovideo.io/integrations/hubspot-video.html\n",
            "--------- Crawled: https://www.hippovideo.io/integrations/video-for-salesloft.html\n",
            "--------- Crawled: https://www.hippovideo.io/love.html\n",
            "--------- Crawled: https://www.hippovideo.io/features/text-to-video.html\n",
            "--------- Crawled: https://www.hippovideo.io/features/document-to-video.html\n",
            "--------- Crawled: https://www.hippovideo.io/ai.html\n",
            "--------- Crawled: https://www.hippovideo.io/features/ai-avatar-video-generator.html\n",
            "--------- Crawled: https://www.hippovideo.io/features/video-flows.html\n",
            "--------- Crawled: https://www.hippovideo.io/features/ai-editor.html\n",
            "--------- Crawled: https://www.hippovideo.io/features/humanize/\n",
            "--------- Crawled: https://www.hippovideo.io/features/ai-video-script-generator.html\n",
            "--------- Crawled: https://www.hippovideo.io/sales-landing-page-with-video.html\n",
            "--------- Crawled: https://www.hippovideo.io/all-features.html\n",
            "--------- Crawled: https://www.hippovideo.io/industries/hospitality-video-rfp.html\n",
            "--------- Crawled: https://www.hippovideo.io/industries/personalized-guest-videos.html\n",
            "--------- Crawled: https://www.hippovideo.io/ai-video-chatbot\n",
            "--------- Crawled: https://www.hippovideo.io/blog/\n",
            "--------- Crawled: https://www.hippovideo.io/webinars.html\n",
            "--------- Crawled: https://www.hippovideo.io/video-email-guide.html\n",
            "--------- Crawled: https://www.hippovideo.io/ebooks.html\n",
            "--------- Crawled: https://www.hippovideo.io/podcasts/sales-and-marketing.html\n",
            "--------- Crawled: https://www.hippovideo.io/mic-test.html\n",
            "--------- Crawled: https://www.hippovideo.io/webcam-test.html\n",
            "--------- Crawled: https://www.hippovideo.io/create-free-video-resume.html\n",
            "--------- Crawled: https://www.hippovideo.io/sales-roi-calculator-for-videos.html\n",
            "--------- Crawled: https://www.hippovideo.io/video-script-timer.html\n",
            "--------- Crawled: https://www.hippovideo.io/video-personalization.html\n",
            "--------- Crawled: https://www.hippovideo.io/industries/video-for-saas.html\n",
            "--------- Crawled: https://www.hippovideo.io/industries/travel.html\n",
            "--------- Crawled: https://www.hippovideo.io/industries/real-estate.html\n",
            "--------- Crawled: https://www.hippovideo.io/industries/healthcare-insurance.html\n",
            "--------- Crawled: https://www.hippovideo.io/industries/digital-marketing-agencies.html\n",
            "--------- Crawled: https://www.hippovideo.io/industries/videos-for-insurance.html\n",
            "--------- Crawled: https://www.hippovideo.io/use-cases/sales.html\n",
            "--------- Crawled: https://www.hippovideo.io/use-cases/customer-success.html\n",
            "--------- Crawled: https://www.hippovideo.io/use-cases/pre-sales.html\n",
            "--------- Crawled: https://www.hippovideo.io/use-cases/sales-enablement.html\n",
            "\n",
            "Starting crawl from: https://www.dacast.com\n",
            "-------- Crawled: https://www.dacast.com\n",
            "--------- Crawled: https://www.dacast.com#main\n",
            "--------- Crawled: https://www.dacast.com/es/\n",
            "--------- Crawled: https://www.dacast.com/fr/\n",
            "--------- Crawled: https://www.dacast.com/it/\n",
            "--------- Crawled: https://www.dacast.com/pt/\n",
            "--------- Crawled: https://www.dacast.com/stream-live-video-on-your-website/\n",
            "--------- Crawled: https://www.dacast.com/live-streaming-platform/\n",
            "--------- Crawled: https://www.dacast.com/ovp-online-video-platform/\n",
            "--------- Crawled: https://www.dacast.com/ott-platform/\n",
            "--------- Crawled: https://www.dacast.com/video-on-demand-vod/\n",
            "--------- Crawled: https://www.dacast.com/rtmp-streaming-platform/\n",
            "--------- Crawled: https://www.dacast.com/hls-streaming-platform/\n",
            "--------- Crawled: https://www.dacast.com/why-dacast-to-broadcast-live/\n",
            "--------- Crawled: https://www.dacast.com/video-hosting-china/\n",
            "--------- Crawled: https://www.dacast.com/html5-video-player/\n",
            "--------- Crawled: https://www.dacast.com/streaming-solutions/\n",
            "--------- Crawled: https://www.dacast.com/expo-video-gallery/\n",
            "--------- Crawled: https://www.dacast.com/cdn-live-streaming/\n",
            "--------- Crawled: https://www.dacast.com/multistreaming/\n",
            "--------- Crawled: https://www.dacast.com/online-video-hosting/\n",
            "--------- Crawled: https://www.dacast.com/video-hosting-manager/\n",
            "--------- Crawled: https://www.dacast.com/private-video-sharing/\n",
            "--------- Crawled: https://www.dacast.com/video-analytics/\n",
            "--------- Crawled: https://www.dacast.com/video-monetization/\n",
            "--------- Crawled: https://www.dacast.com/video-marketing-tools/\n",
            "--------- Crawled: https://www.dacast.com/live-event-streaming/\n",
            "--------- Crawled: https://www.dacast.com/broadcast-sports/\n",
            "--------- Crawled: https://www.dacast.com/live-streaming-fitness-classes/\n",
            "--------- Crawled: https://www.dacast.com/online-video-publishing-platform/\n",
            "--------- Crawled: https://www.dacast.com/enterprise-video-platform/\n",
            "--------- Crawled: https://www.dacast.com/online-video-marketing-platform/\n",
            "--------- Crawled: https://www.dacast.com/video-selling-software/\n",
            "--------- Crawled: https://www.dacast.com/church-live-streaming/\n",
            "--------- Crawled: https://www.dacast.com/streaming-video-for-government-municipality/\n",
            "--------- Crawled: https://www.dacast.com/online-video-education-platform/\n",
            "--------- Crawled: https://www.dacast.com/video-platform-for-agencies/\n",
            "--------- Crawled: https://www.dacast.com/live-streaming-for-musicians/\n",
            "--------- Crawled: https://www.dacast.com/streaming-solutions-tv-radio/\n",
            "--------- Crawled: https://www.dacast.com/video-api/\n",
            "--------- Crawled: https://www.dacast.com/player-api-documentation/\n",
            "--------- Crawled: https://www.dacast.com/player-api-documentation/#aios\n",
            "--------- Crawled: https://www.dacast.com/developer-tools/\n",
            "--------- Crawled: https://www.dacast.com/video-transcoding/\n",
            "--------- Crawled: https://www.dacast.com/pay-per-view-streaming/\n",
            "--------- Crawled: https://www.dacast.com/secure-video-upload/\n",
            "--------- Crawled: https://www.dacast.com/live-streaming-pricing-plans/\n",
            "--------- Crawled: https://www.dacast.com/category/blog/\n",
            "--------- Crawled: https://www.dacast.com/category/latest-news/\n",
            "--------- Crawled: https://www.dacast.com/video-streaming-case-studies/\n",
            "\n",
            "Starting crawl from: https://www.muvi.com\n",
            "-------- Crawled: https://www.muvi.com\n",
            "--------- Crawled: https://www.muvi.com/try-muvi-products/\n",
            "--------- Crawled: https://www.muvi.com/one/\n",
            "--------- Crawled: https://www.muvi.com/live/\n",
            "--------- Crawled: https://www.muvi.com/flex/\n",
            "--------- Crawled: https://www.muvi.com/playout/\n",
            "--------- Crawled: https://www.muvi.com/player/\n",
            "--------- Crawled: https://www.muvi.com/tv/\n",
            "--------- Crawled: https://www.muvi.com/suggest-iq/\n",
            "--------- Crawled: https://www.muvi.com/test-smart-tv-apps-remotely/\n",
            "--------- Crawled: https://www.muvi.com/examples/\n",
            "--------- Crawled: https://www.muvi.com/alie/\n",
            "--------- Crawled: https://www.muvi.com/demo/\n",
            "--------- Crawled: https://www.muvi.com/ask-sales/\n",
            "--------- Crawled: https://www.muvi.com/one/migrate-muvi/\n",
            "--------- Crawled: https://www.muvi.com/one/pricing/\n",
            "--------- Crawled: https://www.muvi.com/one/video-on-demand-vod/\n",
            "--------- Crawled: https://www.muvi.com/one/audio-on-demand-aod/\n",
            "--------- Crawled: https://www.muvi.com/live/video-live-streaming/\n",
            "--------- Crawled: https://www.muvi.com/offline-streaming/\n",
            "--------- Crawled: https://www.muvi.com/flex/video-hosting-platform/\n",
            "--------- Crawled: https://www.muvi.com/one/podcast/\n",
            "--------- Crawled: https://www.muvi.com/one/mobile-and-tv-apps/\n",
            "--------- Crawled: https://www.muvi.com/live/meetings/\n",
            "--------- Crawled: https://www.muvi.com/one/online-video-platform/\n",
            "--------- Crawled: https://www.muvi.com/one/iptv-solution/\n",
            "--------- Crawled: https://www.muvi.com/live/event-live-streaming/\n",
            "--------- Crawled: https://www.muvi.com/entertainment/\n",
            "--------- Crawled: https://www.muvi.com/sports/\n",
            "--------- Crawled: https://www.muvi.com/healthcare/\n",
            "--------- Crawled: https://www.muvi.com/health-fitness/\n",
            "--------- Crawled: https://www.muvi.com/education/\n",
            "--------- Crawled: https://www.muvi.com/religion/\n",
            "--------- Crawled: https://www.muvi.com/judiciary/\n",
            "--------- Crawled: https://www.muvi.com/enterprises/\n",
            "--------- Crawled: https://www.muvi.com/one/film-festivals/\n",
            "--------- Crawled: https://www.muvi.com/broadcasters-mso/\n",
            "--------- Crawled: https://www.muvi.com/government-public-sector/\n",
            "--------- Crawled: https://www.muvi.com/telcos/\n",
            "--------- Crawled: https://www.muvi.com/finance/\n",
            "--------- Crawled: https://www.muvi.com/one/web/\n",
            "--------- Crawled: https://www.muvi.com/windows-desktop-app/\n",
            "--------- Crawled: https://www.muvi.com/ios-app/\n",
            "--------- Crawled: https://www.muvi.com/android-app/\n",
            "--------- Crawled: https://www.muvi.com/one/features/mobile-software-development-kit/\n",
            "--------- Crawled: https://www.muvi.com/sony-playstation/\n",
            "--------- Crawled: https://www.muvi.com/xbox-app/\n",
            "--------- Crawled: https://www.muvi.com/bring-your-own-cms/\n",
            "--------- Crawled: https://www.muvi.com/roku-channel/\n",
            "--------- Crawled: https://www.muvi.com/android-tv-app/\n",
            "\n",
            "Starting crawl from: https://www.proxlearn.com\n",
            "-------- Crawled: https://www.proxlearn.com\n",
            "--------- Crawled: https://www.proxlearn.com/\n",
            "--------- Crawled: https://www.proxlearn.com/live-virtual-k-12-education\n",
            "--------- Crawled: https://www.proxlearn.com/live-virtual-tutoring\n",
            "--------- Crawled: https://www.proxlearn.com/live-virtual-summer-school\n",
            "--------- Crawled: https://www.proxlearn.com/sped\n",
            "--------- Crawled: https://www.proxlearn.com/proximity-learning-virtual-case-management-services\n",
            "--------- Crawled: https://www.proxlearn.com/courses\n",
            "--------- Crawled: https://www.proxlearn.com/teacher-excellence\n",
            "--------- Crawled: https://www.proxlearn.com/teacher-support-network\n",
            "--------- Crawled: https://www.proxlearn.com/teach-with-us\n",
            "--------- Crawled: https://www.proxlearn.com/about-us\n",
            "--------- Crawled: https://www.proxlearn.com/where-we-operate\n",
            "--------- Crawled: https://www.proxlearn.com/by-the-numbers\n",
            "--------- Crawled: https://www.proxlearn.com/careers\n",
            "--------- Crawled: https://www.proxlearn.com/contact-us\n",
            "--------- Crawled: https://www.proxlearn.com/blog\n",
            "--------- Crawled: https://www.proxlearn.com/videos\n",
            "--------- Crawled: https://www.proxlearn.com/resources\n",
            "--------- Crawled: https://www.proxlearn.com/parent\n",
            "--------- Crawled: https://www.proxlearn.com#talk-to-us\n",
            "--------- Crawled: https://www.proxlearn.com/in-person-schools\n",
            "--------- Crawled: https://www.proxlearn.com/events\n",
            "--------- Crawled: https://www.proxlearn.com/policies/terms-of-service\n",
            "--------- Crawled: https://www.proxlearn.com/policies/privacy-policy\n",
            "--------- Crawled: https://www.proxlearn.com/cyber-safety-tips-security-best-practices-proximity-learning\n",
            "\n",
            "Starting crawl from: https://fullmind.com\n",
            "-------- Crawled: https://fullmind.com\n",
            "--------- Crawled: https://fullmind.com#content\n",
            "--------- Crawled: https://fullmind.com/\n",
            "--------- Crawled: https://fullmind.com/home\n",
            "--------- Crawled: https://fullmind.com/go/attacchi-di-panico-cosa-sono/\n",
            "--------- Crawled: https://fullmind.com/go/esperienza-4/\n",
            "--------- Crawled: https://fullmind.com/go/esperienza-3/\n",
            "--------- Crawled: https://fullmind.com/go/esperienza-2/\n",
            "--------- Crawled: https://fullmind.com/go/esperienza-1/\n",
            "--------- Crawled: https://fullmind.com/go/esperienza-4/#comment-21\n",
            "--------- Crawled: https://fullmind.com/go/esperienza-1/#comment-8\n",
            "--------- Crawled: https://fullmind.com/go/esperienza-2/#comment-11\n",
            "--------- Crawled: https://fullmind.com/go/esperienza-3/#comment-13\n",
            "--------- Crawled: https://fullmind.com/go/esperienza-4/#comment-20\n",
            "--------- Crawled: https://fullmind.com/go/2011/08/\n",
            "--------- Crawled: https://fullmind.com/go/2006/08/\n",
            "--------- Crawled: https://fullmind.com/cat/audio/\n",
            "--------- Crawled: https://fullmind.com/cat/blog/\n",
            "--------- Crawled: https://fullmind.com/cat/audio/esperienze/\n",
            "--------- Crawled: https://fullmind.com/wp-login.php\n",
            "--------- Crawled: https://fullmind.com/feed/\n"
          ]
        },
        {
          "output_type": "stream",
          "name": "stderr",
          "text": [
            "/tmp/ipython-input-11-3075972795.py:21: XMLParsedAsHTMLWarning: It looks like you're using an HTML parser to parse an XML document.\n",
            "\n",
            "Assuming this really is an XML document, what you're doing might work, but you should know that using an XML parser will be more reliable. To parse this document as XML, make sure you have the Python package 'lxml' installed, and pass the keyword argument `features=\"xml\"` into the BeautifulSoup constructor.\n",
            "\n",
            "If you want or need to use an HTML parser on this document, you can make this warning go away by filtering it. To do that, run this code before calling the BeautifulSoup constructor:\n",
            "\n",
            "    from bs4 import XMLParsedAsHTMLWarning\n",
            "    import warnings\n",
            "\n",
            "    warnings.filterwarnings(\"ignore\", category=XMLParsedAsHTMLWarning)\n",
            "\n",
            "  soup = BeautifulSoup(response.text, 'html.parser')\n"
          ]
        },
        {
          "output_type": "stream",
          "name": "stdout",
          "text": [
            "--------- Crawled: https://fullmind.com/comments/feed/\n",
            "--------- Crawled: https://fullmind.com/wp-content/uploads/2011/09/Fulmind-experiences.png\n",
            "--------- Crawled: https://fullmind.com/metodo-fullmind\n",
            "--------- Crawled: https://fullmind.com/wp-login.php?action=register\n",
            "--------- Crawled: https://fullmind.com/metodo-fullmind/istruzioni\n"
          ]
        }
      ]
    },
    {
      "cell_type": "code",
      "source": [
        "# print inverted index\n",
        "print(\"\\nSample inverted index (first 20 words):\")\n",
        "for word in list(inverted_index.keys())[:20]:\n",
        "    print(f\"{word}: {list(inverted_index[word])}\")"
      ],
      "metadata": {
        "colab": {
          "base_uri": "https://localhost:8080/"
        },
        "id": "NjYTV2yjTtsc",
        "outputId": "0a89e0a6-c51a-43ce-d3ea-f9ed99d0b221"
      },
      "execution_count": 14,
      "outputs": [
        {
          "output_type": "stream",
          "name": "stdout",
          "text": [
            "\n",
            "Sample inverted index (first 20 words):\n",
            "edx: ['https://www.edx.org/learn/economics', 'https://www.edx.org/executive-education/massachusetts-institute-of-technology-artificial-intelligence-implications-for-business-strategy', 'https://www.edx.org/masters/masters-in-education-online', 'https://www.edx.org/bachelors/online-accounting-bachelor-degree', 'https://www.edx.org/', 'https://www.edx.org/masters/online-masters-in-data-science', 'https://www.edx.org/learn/python', 'https://www.edx.org/become', 'https://www.edx.org/learn/excel', 'https://www.edx.org/learn/software-engineering', 'https://www.edx.org/learn/artificial-intelligence', 'https://www.edx.org/learn/computer-programming', 'https://www.edx.org/bachelors/computer-data-sciences', 'https://www.edx.org/become/how-to-become-a-software-developer', 'https://www.edx.org/learn/architecture', 'https://www.edx.org/learn/government/harvard-university-american-government-constitutional-foundations', 'https://www.edx.org/masters/online-slp-programs', 'https://www.edx.org/bachelors/online-bachelors-degree-finance', 'https://www.edx.org/become/how-to-become-a-social-media-manager', 'https://www.edx.org/bachelors/health-social-services', 'https://www.edx.org/masters/healthcare', 'https://www.edx.org/search?q=business', 'https://www.edx.org/bachelors', 'https://www.edx.org/masters/online-msw-programs', 'https://www.edx.org/masters/micromasters/mitx-supply-chain-management', 'https://www.edx.org/learn/chatgpt', 'https://www.edx.org/learn/democracy/harvard-university-we-the-people-civic-engagement-in-a-constitutional-democracy', 'https://www.edx.org/search?q=finance', 'https://www.edx.org/learn/blockchain', 'https://www.edx.org/learn/business-administration', 'https://www.edx.org', 'https://www.edx.org/search', 'https://www.edx.org/learn/project-management', 'https://www.edx.org/bachelors/business', 'https://www.edx.org/bachelors/social-work-bsw', 'https://www.edx.org/level-up-promo', 'https://www.edx.org/masters/online-mba', 'https://www.edx.org/masters/online-msn-programs', 'https://www.edx.org/learn/computer-science/harvard-university-cs50-s-introduction-to-computer-science', 'https://www.edx.org/search?q=data science', 'https://www.edx.org/bachelors/bachelors-in-public-health-online', 'https://www.edx.org/become/how-to-become-a-software-engineer-without-a-degree', 'https://www.edx.org/learn/spanish', 'https://www.edx.org/masters/online-masters-in-engineering', 'https://www.edx.org/learn', 'https://www.edx.org/bachelors/psychology', 'https://www.edx.org/search?q=ai', 'https://www.edx.org/become/how-to-become-a-data-scientist', 'https://www.edx.org/masters/masters-in-public-health-online', 'https://www.edx.org/become/how-to-become-a-cybersecurity-analyst']\n",
            "online: ['https://www.muvi.com/one/migrate-muvi/', 'https://www.muvi.com/judiciary/', 'https://www.muvi.com/windows-desktop-app/', 'https://www.thinkific.com/about/', 'https://www.teachable.com/pay', 'https://www.dacast.com/player-api-documentation/', 'https://www.muvi.com/broadcasters-mso/', 'https://www.edx.org/learn/artificial-intelligence', 'https://www.dacast.com/secure-video-upload/', 'https://www.learnworlds.com/popup-builder', 'https://www.dacast.com/pt/', 'https://www.muvi.com/flex/', 'https://www.learnworlds.com/live-sessions', 'https://www.muvi.com/healthcare/', 'https://www.dacast.com/video-marketing-tools/', 'https://www.dacast.com/rtmp-streaming-platform/', 'https://www.dacast.com/video-analytics/', 'https://www.dacast.com/pay-per-view-streaming/', 'https://www.teachable.com/industry/health-and-fitness', 'https://www.edx.org/masters/online-msn-programs', 'https://www.dacast.com/video-transcoding/', 'https://www.learnworlds.com/built-smarter-academy/', 'https://www.teachable.com/sales-and-marketing', 'https://www.muvi.com/enterprises/', 'https://www.dacast.com/live-streaming-for-musicians/', 'https://www.proxlearn.com/policies/terms-of-service', 'https://www.dacast.com/online-video-publishing-platform/', 'https://www.dacast.com/online-video-marketing-platform/', 'https://www.muvi.com/live/video-live-streaming/', 'https://www.muvi.com/one/web/', 'https://www.teachable.com/products', 'https://www.muvi.com/government-public-sector/', 'https://www.udemy.com', 'https://www.dacast.com/church-live-streaming/', 'https://www.edx.org/learn/architecture', 'https://www.edx.org/masters/online-slp-programs', 'https://www.muvi.com/live/meetings/', 'https://www.edx.org/become/how-to-become-a-social-media-manager', 'https://www.edx.org/search?q=business', 'https://www.dacast.com#main', 'https://www.dacast.com/hls-streaming-platform/', 'https://www.muvi.com/xbox-app/', 'https://www.teachable.com/careers', 'https://www.learnworlds.com/experts-directory/', 'https://www.muvi.com/player/', 'https://www.thinkific.com/features/branded-mobile/', 'https://www.thinkific.com/plus/', 'https://www.learnworlds.com/enterprise-lms', 'https://www.dacast.com/why-dacast-to-broadcast-live/', 'https://www.proxlearn.com/resources', 'https://www.muvi.com/one/video-on-demand-vod/', 'https://www.dacast.com/enterprise-video-platform/', 'https://www.edx.org/', 'https://www.thinkific.com/case-studies/baking-business-success-story/', 'https://www.thinkific.com/solutions/market-leaders-companies/', 'https://www.thinkific.com/resources/', 'https://www.edx.org/learn/government/harvard-university-american-government-constitutional-foundations', 'https://www.thinkific.com/features/coaching-webinars/', 'https://www.muvi.com/one/film-festivals/', 'https://www.dacast.com/video-streaming-case-studies/', 'https://www.learnworlds.com/best-retail-lms/', 'https://www.learnworlds.com/for-business', 'https://www.edx.org/search?q=finance', 'https://www.thinkific.com/privacy-policy/', 'https://www.edx.org/bachelors/business', 'https://www.proxlearn.com/cyber-safety-tips-security-best-practices-proximity-learning', 'https://www.muvi.com/entertainment/', 'https://www.teachable.com/industry/spirituality-and-worship', 'https://www.hippovideo.io/create-free-video-resume.html', 'https://www.edx.org/learn/python', 'https://www.learnworlds.com/creators', 'https://www.teachable.com/creator-support-services', 'https://www.udemy.com/', 'https://www.teachable.com/', 'https://www.teachable.com/industry/academics-and-languages', 'https://www.dacast.com/category/blog/', 'https://www.thinkific.com/terms-of-service/', 'https://www.muvi.com', 'https://www.teachable.com/guides-and-how-tos', 'https://www.muvi.com/telcos/', 'https://www.teachable.com/advanced-features', 'https://www.edx.org/learn/project-management', 'https://www.teachable.com/resources', 'https://www.thinkific.com/case-studies/keap/', 'https://www.muvi.com/live/event-live-streaming/', 'https://www.learnworlds.com/custom-user-roles', 'https://www.edx.org/search?q=ai', 'https://www.learnworlds.com/improvpiano', 'https://www.dacast.com/cdn-live-streaming/', 'https://www.learnworlds.com/blog', 'https://www.dacast.com', 'https://www.muvi.com/try-muvi-products/', 'https://www.muvi.com/one/podcast/', 'https://www.teachable.com/examples', 'https://www.learnworlds.com/getstarted', 'https://www.thinkific.com/features/digital-downloads/', 'https://www.muvi.com/one/features/mobile-software-development-kit/', 'https://www.thinkific.com/features/analytics/', 'https://www.thinkific.com/features/landing-pages/', 'https://www.dacast.com/streaming-solutions/', 'https://www.dacast.com/private-video-sharing/', 'https://www.edx.org/masters/online-mba', 'https://www.muvi.com/live/', 'https://www.teachable.com/memberships', 'https://www.learnworlds.com/calisthenics', 'https://www.teachable.com/about', 'https://www.teachable.com/app-hub', 'https://www.edx.org/learn/computer-programming', 'https://www.teachable.com/watch-demo', 'https://www.thinkific.com/case-studies/miss-excel-online-course-tiktok-launch/', 'https://www.dacast.com/video-api/', 'https://www.teachable.com/partners', 'https://www.muvi.com/one/mobile-and-tv-apps/', 'https://www.edx.org/learn/blockchain', 'https://www.edx.org/learn/business-administration', 'https://www.teachable.com/start-your-business', 'https://www.udemy.com/featured-topics/', 'https://www.dacast.com/video-on-demand-vod/', 'https://www.dacast.com/html5-video-player/', 'https://www.edx.org/masters/online-masters-in-engineering', 'https://www.dacast.com/streaming-solutions-tv-radio/', 'https://www.edx.org/become/how-to-become-a-data-scientist', 'https://www.learnworlds.com/ai-central', 'https://www.dacast.com/live-event-streaming/', 'https://www.muvi.com/religion/', 'https://www.teachable.com/blog', 'https://www.thinkific.com/plus/referacustomer/', 'https://www.muvi.com/demo/', 'https://www.edx.org/masters/healthcare', 'https://www.learnworlds.com/integrations', 'https://www.thinkific.com/security-overview/', 'https://www.teachable.com/digital-downloads', 'https://www.thinkific.com', 'https://www.thinkific.com/case-studies/hootsuite/', 'https://www.dacast.com/online-video-education-platform/', 'https://www.learnworlds.com/finance', 'https://www.learnworlds.com/survey-builder', 'https://www.teachable.com/features', 'https://www.teachable.com/community', 'https://www.udemy.com/mobile/', 'https://www.teachable.com/events', 'https://www.edx.org/learn/economics', 'https://www.udemy.com#main-content-anchor', 'https://www.dacast.com/video-hosting-manager/', 'https://www.teachable.com/industry/personal-development', 'https://www.thinkific.com/affiliates/', 'https://www.teachable.com/coaching', 'https://www.learnworlds.com/all-features', 'https://www.learnworlds.com/employee-training-lms', 'https://www.learnworlds.com', 'https://www.teachable.com/site-builder', 'https://www.dacast.com/category/latest-news/', 'https://www.edx.org/search', 'https://www.proxlearn.com/live-virtual-summer-school', 'https://www.edx.org/learn/computer-science/harvard-university-cs50-s-introduction-to-computer-science', 'https://www.edx.org/bachelors/bachelors-in-public-health-online', 'https://www.edx.org/learn', 'https://www.hippovideo.io/blog/', 'https://www.hippovideo.io/webcam-test.html', 'https://www.thinkific.com/features/time-saving-tools/', 'https://www.muvi.com/one/audio-on-demand-aod/', 'https://www.thinkific.com/solutions/revenue-generation/', 'https://www.teachable.com/grow-your-business', 'https://www.hippovideo.io/video-marketing.html', 'https://www.muvi.com/tv/', 'https://www.edx.org/masters/masters-in-education-online', 'https://www.thinkific.com/solutions/lead-generation/', 'https://www.edx.org/learn/excel', 'https://www.hippovideo.io/video-personalization.html', 'https://www.learnworlds.com/solutions', 'https://www.thinkific.com/features/courses/', 'https://www.teachable.com/industry/lifestyle', 'https://www.muvi.com/finance/', 'https://www.dacast.com/streaming-video-for-government-municipality/', 'https://www.teachable.com/ai-hub', 'https://www.learnworlds.com/marketing-tools', 'https://www.thinkific.com/pricing/', 'https://www.learnworlds.com/watch-demo', 'https://www.proxlearn.com/policies/privacy-policy', 'https://www.thinkific.com/faq/', 'https://www.hippovideo.io/all-features.html', 'https://www.dacast.com/live-streaming-pricing-plans/', 'https://www.edx.org/learn/software-engineering', 'https://www.edx.org/bachelors/computer-data-sciences', 'https://www.learnworlds.com/website-builder', 'https://www.learnworlds.com/daily-webinars', 'https://www.teachable.com/online-courses', 'https://www.learnworlds.com/droneit', 'https://www.thinkific.com/case-studies/', 'https://www.thinkific.com/solutions/subject-matter-experts/', 'https://www.thinkific.com/', 'https://www.dacast.com/video-selling-software/', 'https://www.muvi.com/bring-your-own-cms/', 'https://www.thinkific.com/cookies-policy/', 'https://www.udemy.com/invite/', 'https://www.teachable.com/staff-picks', 'https://www.learnworlds.com/how-to-sell-corporate-training-programs/', 'https://www.teachable.com/industry/software-and-technology', 'https://www.learnworlds.com/mobile-app', 'https://www.muvi.com/sony-playstation/', 'https://www.learnworlds.com/flexible-courses', 'https://www.muvi.com/education/', 'https://www.muvi.com/playout/', 'https://www.learnworlds.com/scorm', 'https://www.dacast.com/online-video-hosting/', 'https://www.udemy.com/browse/certification/', 'https://www.dacast.com/video-monetization/', 'https://www.learnworlds.com/checkout-and-payments', 'https://www.edx.org/bachelors/online-bachelors-degree-finance', 'https://www.dacast.com/expo-video-gallery/', 'https://www.muvi.com/offline-streaming/', 'https://www.proxlearn.com/events', 'https://www.dacast.com/multistreaming/', 'https://www.edx.org/masters/online-msw-programs', 'https://www.dacast.com/player-api-documentation/#aios', 'https://www.learnworlds.com/coaching', 'https://www.learnworlds.com/white-label-website', 'https://www.thinkific.com/features/memberships/', 'https://www.muvi.com/one/', 'https://www.teachable.com/9to5-quitters-club', 'https://www.muvi.com/flex/video-hosting-platform/', 'https://www.thinkific.com/case-studies/chargebee/', 'https://www.teachable.com/student-experience', 'https://www.thinkific.com/case-studies/schudio/', 'https://www.dacast.com/ott-platform/', 'https://www.muvi.com/one/online-video-platform/', 'https://www.edx.org/become', 'https://www.proxlearn.com/courses', 'https://www.learnworlds.com/', 'https://www.teachable.com/teachable-u', 'https://www.proxlearn.com/about-us', 'https://www.edx.org/learn/democracy/harvard-university-we-the-people-civic-engagement-in-a-constitutional-democracy', 'https://www.learnworlds.com/non-profit', 'https://www.dacast.com/broadcast-sports/', 'https://www.learnworlds.com/bundles-and-subscriptions', 'https://www.edx.org/search?q=data science', 'https://www.muvi.com/roku-channel/', 'https://www.thinkific.com/press/', 'https://www.edx.org/become/how-to-become-a-software-engineer-without-a-degree', 'https://www.muvi.com/test-smart-tv-apps-remotely/', 'https://www.edx.org/bachelors/psychology', 'https://www.thinkific.com/solutions/academies/', 'https://www.edx.org/become/how-to-become-a-cybersecurity-analyst', 'https://www.learnworlds.com/nailarts', 'https://www.muvi.com/health-fitness/', 'https://www.thinkific.com/features/selling-tools/', 'https://www.edx.org/bachelors/online-accounting-bachelor-degree', 'https://www.edx.org/masters/online-masters-in-data-science', 'https://www.teachable.com/house-rules', 'https://www.muvi.com/android-tv-app/', 'https://www.edx.org/become/how-to-become-a-software-developer', 'https://www.teachable.com/b/news/creator-stories', 'https://www.muvi.com/examples/', 'https://www.dacast.com/it/', 'https://www.learnworlds.com/health', 'https://www.learnworlds.com/how-to-build-a-coaching-program/', 'https://www.edx.org/masters/micromasters/mitx-supply-chain-management', 'https://www.thinkific.com/blog/', 'https://www.learnworlds.com/interactive-video', 'https://www.hippovideo.io/mic-test.html', 'https://www.thinkific.com/case-studies/flashpoint/', 'https://www.muvi.com/sports/', 'https://www.learnworlds.com/resources', 'https://www.thinkific.com/examples/', 'https://www.learnworlds.com/case-studies', 'https://www.muvi.com/one/iptv-solution/', 'https://www.teachable.com/industry/finance-and-investing', 'https://www.muvi.com/ask-sales/', 'https://www.teachable.com/industry/arts-and-crafting', 'https://www.teachable.com', 'https://www.edx.org/learn/chatgpt', 'https://www.dacast.com/video-hosting-china/', 'https://www.muvi.com/suggest-iq/', 'https://www.teachable.com/press', 'https://www.dacast.com/stream-live-video-on-your-website/', 'https://www.teachable.com/expand-your-business', 'https://www.thinkific.com/careers/', 'https://www.learnworlds.com/fitness', 'https://www.teachable.com/analytics-and-reporting', 'https://www.edx.org/executive-education/massachusetts-institute-of-technology-artificial-intelligence-implications-for-business-strategy', 'https://www.teachable.com/industry/fashion-and-beauty', 'https://www.proxlearn.com/proximity-learning-virtual-case-management-services', 'https://www.muvi.com/one/pricing/', 'https://www.learnworlds.com/learning-liaisons', 'https://www.edx.org/bachelors/health-social-services', 'https://www.thinkific.com/features/learning-communities/', 'https://www.hippovideo.io/customersupport.html', 'https://www.teachable.com/mobile-app', 'https://www.thinkific.com/legal/', 'https://www.edx.org/bachelors/social-work-bsw', 'https://www.edx.org/level-up-promo', 'https://www.teachable.com/industry/marketing-and-business', 'https://www.dacast.com/live-streaming-platform/', 'https://www.learnworlds.com/analytics-and-reports', 'https://www.hippovideo.io/video-email-guide.html', 'https://www.muvi.com/android-app/', 'https://www.dacast.com/live-streaming-fitness-classes/', 'https://www.dacast.com/developer-tools/', 'https://www.thinkific.com/features/thinkific-payments/', 'https://www.muvi.com/ios-app/', 'https://www.edx.org/masters/masters-in-public-health-online', 'https://www.dacast.com/ovp-online-video-platform/', 'https://www.teachable.com/experts', 'https://www.learnworlds.com/pricing/', 'https://www.muvi.com/alie/', 'https://www.proxlearn.com/sped', 'https://www.thinkific.com/experts/', 'https://www.learnworlds.com/ai', 'https://www.edx.org/bachelors', 'https://www.thinkific.com/solutions/customer-training/', 'https://www.thinkific.com/partners/', 'https://www.edx.org', 'https://www.learnworlds.com/customer-training-lms', 'https://www.teachable.com/pricing', 'https://www.learnworlds.com/affiliates', 'https://www.thinkific.com/case-studies/easily-excel-success-story/', 'https://www.edx.org/learn/spanish', 'https://www.thinkific.com/features/email-automation/', 'https://www.dacast.com/video-platform-for-agencies/', 'https://www.learnworlds.com/assessment-builder']\n",
            "courses: ['https://www.hippovideo.io/product-tour.html', 'https://www.learnworlds.com/nailarts', 'https://www.thinkific.com/solutions/revenue-generation/', 'https://www.teachable.com/grow-your-business', 'https://www.hippovideo.io/video-marketing.html', 'https://www.muvi.com/tv/', 'https://www.edx.org/masters/masters-in-education-online', 'https://www.thinkific.com/about/', 'https://www.teachable.com/pay', 'https://www.thinkific.com/features/selling-tools/', 'https://www.learnworlds.com/blog', 'https://www.edx.org/bachelors/online-accounting-bachelor-degree', 'https://www.hippovideo.io/features/text-to-video.html', 'https://www.proxlearn.com/careers', 'https://www.edx.org/masters/online-masters-in-data-science', 'https://www.thinkific.com/solutions/lead-generation/', 'https://www.teachable.com/examples', 'https://www.edx.org/learn/excel', 'https://www.edx.org/learn/artificial-intelligence', 'https://www.teachable.com/house-rules', 'https://www.hippovideo.io/video-personalization.html', 'https://www.hippovideo.io/integrations/hubspot-video.html', 'https://www.thinkific.com/features/digital-downloads/', 'https://www.edx.org/become/how-to-become-a-software-developer', 'https://www.learnworlds.com/solutions', 'https://www.teachable.com/b/news/creator-stories', 'https://www.learnworlds.com/popup-builder', 'https://www.thinkific.com/features/analytics/', 'https://www.thinkific.com/features/courses/', 'https://www.thinkific.com/features/landing-pages/', 'https://www.learnworlds.com/health', 'https://www.teachable.com/industry/lifestyle', 'https://www.learnworlds.com/how-to-build-a-coaching-program/', 'https://www.learnworlds.com/live-sessions', 'https://www.muvi.com/flex/', 'https://www.muvi.com/finance/', 'https://www.hippovideo.io/free.html', 'https://www.edx.org/masters/micromasters/mitx-supply-chain-management', 'https://www.thinkific.com/blog/', 'https://www.teachable.com/ai-hub', 'https://www.hippovideo.io', 'https://www.edx.org/masters/online-mba', 'https://www.learnworlds.com/marketing-tools', 'https://www.teachable.com/industry/health-and-fitness', 'https://www.learnworlds.com/interactive-video', 'https://www.hippovideo.io/mic-test.html', 'https://www.muvi.com/one/audio-on-demand-aod/', 'https://www.edx.org/masters/online-msn-programs', 'https://www.learnworlds.com/built-smarter-academy/', 'https://www.udemy.com/ai-roleplay/', 'https://www.thinkific.com/case-studies/flashpoint/', 'https://www.proxlearn.com/', 'https://www.hippovideo.io/use-cases/sales-enablement.html', 'https://www.teachable.com/sales-and-marketing', 'https://www.thinkific.com/pricing/', 'https://www.proxlearn.com/policies/terms-of-service', 'https://www.learnworlds.com/watch-demo', 'https://www.hippovideo.io/use-cases/customer-success.html', 'https://www.teachable.com/memberships', 'https://www.learnworlds.com/resources', 'https://www.proxlearn.com/in-person-schools', 'https://www.hippovideo.io/features/document-to-video.html', 'https://www.learnworlds.com/calisthenics', 'https://www.teachable.com/about', 'https://www.hippovideo.io/faq.html', 'https://www.proxlearn.com/policies/privacy-policy', 'https://www.thinkific.com/faq/', 'https://www.thinkific.com/examples/', 'https://www.teachable.com/products', 'https://www.muvi.com/government-public-sector/', 'https://www.proxlearn.com/contact-us', 'https://www.hippovideo.io/all-features.html', 'https://www.teachable.com/app-hub', 'https://www.udemy.com', 'https://www.learnworlds.com/case-studies', 'https://www.hippovideo.io/industries/video-for-saas.html', 'https://www.teachable.com/industry/finance-and-investing', 'https://www.edx.org/learn/software-engineering', 'https://www.edx.org/bachelors/computer-data-sciences', 'https://www.edx.org/learn/computer-programming', 'https://www.hippovideo.io/ebooks.html', 'https://www.learnworlds.com/website-builder', 'https://www.teachable.com/watch-demo', 'https://www.edx.org/learn/architecture', 'https://www.thinkific.com/case-studies/miss-excel-online-course-tiktok-launch/', 'https://www.teachable.com/online-courses', 'https://www.learnworlds.com/droneit', 'https://www.learnworlds.com/daily-webinars', 'https://www.thinkific.com/case-studies/', 'https://www.hippovideo.io/products/video-campaigns.html', 'https://www.hippovideo.io/ai.html', 'https://www.edx.org/masters/online-slp-programs', 'https://www.hippovideo.io/integrations/gong.html', 'https://www.hippovideo.io/features/ai-editor.html', 'https://www.proxlearn.com/where-we-operate', 'https://www.edx.org/become/how-to-become-a-social-media-manager', 'https://www.teachable.com/partners', 'https://www.edx.org/search?q=business', 'https://www.thinkific.com/solutions/subject-matter-experts/', 'https://www.thinkific.com/', 'https://www.teachable.com/industry/arts-and-crafting', 'https://www.hippovideo.io/products/video-sdk.html', 'https://www.hippovideo.io/industries/videos-for-insurance.html', 'https://www.teachable.com', 'https://www.edx.org/learn/chatgpt', 'https://www.edx.org/learn/blockchain', 'https://www.hippovideo.io/industries/digital-marketing-agencies.html', 'https://www.hippovideo.io/industries/healthcare-insurance.html', 'https://www.thinkific.com/cookies-policy/', 'https://www.edx.org/learn/business-administration', 'https://www.teachable.com/careers', 'https://www.teachable.com/start-your-business', 'https://www.teachable.com/press', 'https://www.muvi.com/suggest-iq/', 'https://www.learnworlds.com/experts-directory/', 'https://www.teachable.com/expand-your-business', 'https://www.hippovideo.io/industries/real-estate.html', 'https://www.udemy.com/featured-topics/', 'https://www.proxlearn.com/by-the-numbers', 'https://www.udemy.com/invite/', 'https://www.thinkific.com/careers/', 'https://www.teachable.com/staff-picks', 'https://www.learnworlds.com/how-to-sell-corporate-training-programs/', 'https://www.thinkific.com/features/branded-mobile/', 'https://www.thinkific.com/plus/', 'https://www.teachable.com/industry/software-and-technology', 'https://www.learnworlds.com/enterprise-lms', 'https://www.learnworlds.com/fitness', 'https://www.edx.org/masters/online-masters-in-engineering', 'https://www.learnworlds.com/mobile-app', 'https://www.hippovideo.io/industries/hospitality-video-rfp.html', 'https://www.hippovideo.io/video-for-sales-and-prospecting.html', 'https://www.proxlearn.com/resources', 'https://www.hippovideo.io/ai-video-chatbot', 'https://www.learnworlds.com/flexible-courses', 'https://www.edx.org/become/how-to-become-a-data-scientist', 'https://www.hippovideo.io/use-cases/pre-sales.html', 'https://www.learnworlds.com/ai-central', 'https://www.teachable.com/analytics-and-reporting', 'https://www.edx.org/executive-education/massachusetts-institute-of-technology-artificial-intelligence-implications-for-business-strategy', 'https://www.proxlearn.com/teacher-excellence', 'https://www.teachable.com/industry/fashion-and-beauty', 'https://www.edx.org/', 'https://www.proxlearn.com/proximity-learning-virtual-case-management-services', 'https://www.teachable.com/blog', 'https://www.thinkific.com/plus/referacustomer/', 'https://www.muvi.com/one/pricing/', 'https://www.thinkific.com/case-studies/baking-business-success-story/', 'https://www.thinkific.com/solutions/market-leaders-companies/', 'https://www.learnworlds.com/scorm', 'https://www.thinkific.com/resources/', 'https://www.udemy.com/browse/certification/', 'https://www.edx.org/learn/government/harvard-university-american-government-constitutional-foundations', 'https://www.thinkific.com/features/coaching-webinars/', 'https://www.learnworlds.com/checkout-and-payments', 'https://www.edx.org/bachelors/online-bachelors-degree-finance', 'https://www.proxlearn.com/teach-with-us', 'https://www.proxlearn.com/live-virtual-k-12-education', 'https://www.learnworlds.com/learning-liaisons', 'https://www.edx.org/bachelors/health-social-services', 'https://www.edx.org/masters/healthcare', 'https://www.learnworlds.com/integrations', 'https://www.thinkific.com/features/learning-communities/', 'https://www.hippovideo.io/video-selling-resources.html', 'https://www.thinkific.com/security-overview/', 'https://www.hippovideo.io/customersupport.html', 'https://www.proxlearn.com/events', 'https://www.edx.org/masters/online-msw-programs', 'https://www.teachable.com/mobile-app', 'https://www.hippovideo.io/team-communication.html', 'https://www.learnworlds.com/best-retail-lms/', 'https://www.teachable.com/digital-downloads', 'https://www.learnworlds.com/for-business', 'https://www.hippovideo.io/sales-landing-page-with-video.html', 'https://www.edx.org/search?q=finance', 'https://www.thinkific.com/privacy-policy/', 'https://www.hippovideo.io/webinars.html', 'https://www.thinkific.com/legal/', 'https://www.hippovideo.io/features/ai-video-script-generator.html', 'https://www.edx.org/bachelors/business', 'https://www.hippovideo.io/features/video-flows.html', 'https://www.learnworlds.com/coaching', 'https://www.edx.org/bachelors/social-work-bsw', 'https://www.edx.org/level-up-promo', 'https://www.thinkific.com', 'https://www.thinkific.com/case-studies/hootsuite/', 'https://www.teachable.com/industry/marketing-and-business', 'https://www.learnworlds.com/white-label-website', 'https://www.thinkific.com/features/memberships/', 'https://www.dacast.com/online-video-education-platform/', 'https://www.learnworlds.com/finance', 'https://www.learnworlds.com/analytics-and-reports', 'https://www.hippovideo.io/video-email-guide.html', 'https://www.learnworlds.com/survey-builder', 'https://www.teachable.com/features', 'https://www.proxlearn.com/cyber-safety-tips-security-best-practices-proximity-learning', 'https://www.teachable.com/community', 'https://www.teachable.com/9to5-quitters-club', 'https://www.muvi.com/flex/video-hosting-platform/', 'https://www.thinkific.com/case-studies/chargebee/', 'https://www.dacast.com/live-streaming-fitness-classes/', 'https://www.teachable.com/student-experience', 'https://www.thinkific.com/features/thinkific-payments/', 'https://www.proxlearn.com', 'https://www.proxlearn.com/videos', 'https://www.thinkific.com/case-studies/schudio/', 'https://www.edx.org/masters/masters-in-public-health-online', 'https://www.teachable.com/industry/spirituality-and-worship', 'https://www.teachable.com/events', 'https://www.edx.org/learn/economics', 'https://www.learnworlds.com/improvpiano', 'https://www.hippovideo.io/create-free-video-resume.html', 'https://www.hippovideo.io/industries/travel.html', 'https://www.udemy.com#main-content-anchor', 'https://www.proxlearn.com/parent', 'https://www.teachable.com/experts', 'https://www.teachable.com/industry/personal-development', 'https://www.thinkific.com/affiliates/', 'https://www.edx.org/learn/python', 'https://www.edx.org/become', 'https://www.learnworlds.com/creators', 'https://www.learnworlds.com/pricing/', 'https://www.proxlearn.com/sped', 'https://www.teachable.com/creator-support-services', 'https://www.thinkific.com/experts/', 'https://www.proxlearn.com/teacher-support-network', 'https://www.teachable.com/coaching', 'https://www.proxlearn.com/courses', 'https://www.udemy.com/', 'https://www.hippovideo.io/features/ai-avatar-video-generator.html', 'https://www.teachable.com/', 'https://www.teachable.com/industry/academics-and-languages', 'https://www.teachable.com/teachable-u', 'https://www.thinkific.com/terms-of-service/', 'https://www.learnworlds.com/', 'https://www.learnworlds.com/ai', 'https://www.proxlearn.com/about-us', 'https://www.teachable.com/guides-and-how-tos', 'https://www.learnworlds.com/all-features', 'https://www.proxlearn.com#talk-to-us', 'https://www.edx.org/bachelors', 'https://www.learnworlds.com/employee-training-lms', 'https://www.thinkific.com/solutions/customer-training/', 'https://www.teachable.com/advanced-features', 'https://www.hippovideo.io/index.html', 'https://www.teachable.com/teachable-for-business', 'https://www.thinkific.com/partners/', 'https://www.learnworlds.com', 'https://www.edx.org/learn/democracy/harvard-university-we-the-people-civic-engagement-in-a-constitutional-democracy', 'https://www.learnworlds.com/non-profit', 'https://www.teachable.com/site-builder', 'https://www.edx.org', 'https://www.edx.org/search', 'https://www.edx.org/learn/project-management', 'https://www.learnworlds.com/bundles-and-subscriptions', 'https://www.teachable.com/resources', 'https://www.thinkific.com/case-studies/keap/', 'https://www.proxlearn.com/live-virtual-summer-school', 'https://www.edx.org/learn/computer-science/harvard-university-cs50-s-introduction-to-computer-science', 'https://www.edx.org/search?q=data science', 'https://www.hippovideo.io/love.html', 'https://www.edx.org/bachelors/bachelors-in-public-health-online', 'https://www.learnworlds.com/customer-training-lms', 'https://www.hippovideo.io/integrations/video-for-salesloft.html', 'https://www.hippovideo.io/sales-roi-calculator-for-videos.html', 'https://www.teachable.com/pricing', 'https://www.thinkific.com/press/', 'https://www.learnworlds.com/affiliates', 'https://www.edx.org/become/how-to-become-a-software-engineer-without-a-degree', 'https://www.thinkific.com/case-studies/easily-excel-success-story/', 'https://www.proxlearn.com/live-virtual-tutoring', 'https://www.hippovideo.io/industries/personalized-guest-videos.html', 'https://www.proxlearn.com/blog', 'https://www.edx.org/learn/spanish', 'https://www.hippovideo.io/video-script-timer.html', 'https://www.hippovideo.io/podcasts/sales-and-marketing.html', 'https://www.learnworlds.com/custom-user-roles', 'https://www.thinkific.com/features/email-automation/', 'https://www.edx.org/learn', 'https://www.edx.org/bachelors/psychology', 'https://www.hippovideo.io/use-cases/sales.html', 'https://www.edx.org/search?q=ai', 'https://www.thinkific.com/solutions/academies/', 'https://www.hippovideo.io/webcam-test.html', 'https://www.thinkific.com/features/time-saving-tools/', 'https://www.learnworlds.com/assessment-builder', 'https://www.edx.org/become/how-to-become-a-cybersecurity-analyst']\n",
            "certificates: ['https://www.edx.org/learn/economics', 'https://www.edx.org/masters/masters-in-education-online', 'https://www.edx.org/', 'https://www.edx.org/masters/online-masters-in-data-science', 'https://www.teachable.com/industry/finance-and-investing', 'https://www.edx.org/learn/python', 'https://www.muvi.com/education/', 'https://www.learnworlds.com/pricing/', 'https://www.edx.org/learn/software-engineering', 'https://www.edx.org/learn/excel', 'https://www.edx.org/learn/artificial-intelligence', 'https://www.edx.org/learn/computer-programming', 'https://www.thinkific.com/solutions/market-leaders-companies/', 'https://www.edx.org/learn/architecture', 'https://www.teachable.com/online-courses', 'https://www.thinkific.com/features/courses/', 'https://www.teachable.com/industry/academics-and-languages', 'https://www.learnworlds.com/', 'https://www.edx.org/become/how-to-become-a-social-media-manager', 'https://www.learnworlds.com/learning-liaisons', 'https://www.edx.org/masters/healthcare', 'https://www.learnworlds.com/integrations', 'https://www.learnworlds.com/how-to-build-a-coaching-program/', 'https://www.muvi.com/healthcare/', 'https://www.learnworlds.com/employee-training-lms', 'https://www.teachable.com/advanced-features', 'https://www.learnworlds.com', 'https://www.learnworlds.com/for-business', 'https://www.edx.org/learn/blockchain', 'https://www.learnworlds.com/non-profit', 'https://www.edx.org/learn/business-administration', 'https://www.edx.org', 'https://www.edx.org/learn/project-management', 'https://www.edx.org/bachelors/business', 'https://www.edx.org/masters/online-mba', 'https://www.learnworlds.com/flexible-courses', 'https://www.edx.org/level-up-promo', 'https://www.thinkific.com/case-studies/hootsuite/', 'https://www.thinkific.com/faq/', 'https://www.learnworlds.com/customer-training-lms', 'https://www.learnworlds.com/finance', 'https://www.teachable.com/pricing', 'https://www.learnworlds.com/how-to-sell-corporate-training-programs/', 'https://www.thinkific.com/plus/', 'https://www.thinkific.com/pricing/', 'https://www.teachable.com/industry/software-and-technology', 'https://www.edx.org/learn/spanish', 'https://www.teachable.com/memberships', 'https://www.teachable.com/student-experience', 'https://www.learnworlds.com/assessment-builder', 'https://www.thinkific.com/case-studies/schudio/', 'https://www.edx.org/masters/masters-in-public-health-online', 'https://www.edx.org/become/how-to-become-a-cybersecurity-analyst']\n",
            "degrees: ['https://www.edx.org/learn/economics', 'https://www.edx.org/executive-education/massachusetts-institute-of-technology-artificial-intelligence-implications-for-business-strategy', 'https://www.edx.org/masters/masters-in-education-online', 'https://www.edx.org/bachelors/online-accounting-bachelor-degree', 'https://www.edx.org/', 'https://www.edx.org/masters/online-masters-in-data-science', 'https://www.edx.org/learn/python', 'https://www.edx.org/become', 'https://www.edx.org/learn/excel', 'https://www.edx.org/learn/software-engineering', 'https://www.edx.org/learn/artificial-intelligence', 'https://www.edx.org/learn/computer-programming', 'https://www.edx.org/bachelors/computer-data-sciences', 'https://www.edx.org/become/how-to-become-a-software-developer', 'https://www.edx.org/learn/architecture', 'https://www.edx.org/learn/government/harvard-university-american-government-constitutional-foundations', 'https://www.edx.org/masters/online-slp-programs', 'https://www.edx.org/bachelors/online-bachelors-degree-finance', 'https://www.edx.org/become/how-to-become-a-social-media-manager', 'https://www.edx.org/bachelors/health-social-services', 'https://www.edx.org/masters/healthcare', 'https://www.edx.org/search?q=business', 'https://www.edx.org/bachelors', 'https://www.edx.org/masters/online-msw-programs', 'https://www.edx.org/masters/micromasters/mitx-supply-chain-management', 'https://www.edx.org/learn/chatgpt', 'https://www.edx.org/learn/democracy/harvard-university-we-the-people-civic-engagement-in-a-constitutional-democracy', 'https://www.edx.org/search?q=finance', 'https://www.edx.org/learn/blockchain', 'https://www.edx.org/learn/business-administration', 'https://www.edx.org', 'https://www.edx.org/search', 'https://www.edx.org/learn/project-management', 'https://www.edx.org/bachelors/business', 'https://www.edx.org/bachelors/social-work-bsw', 'https://www.edx.org/level-up-promo', 'https://www.edx.org/masters/online-mba', 'https://www.edx.org/masters/online-msn-programs', 'https://www.edx.org/learn/computer-science/harvard-university-cs50-s-introduction-to-computer-science', 'https://www.edx.org/search?q=data science', 'https://www.edx.org/bachelors/bachelors-in-public-health-online', 'https://www.edx.org/become/how-to-become-a-software-engineer-without-a-degree', 'https://www.edx.org/learn/spanish', 'https://www.edx.org/masters/online-masters-in-engineering', 'https://www.edx.org/learn', 'https://www.edx.org/bachelors/psychology', 'https://www.edx.org/search?q=ai', 'https://www.edx.org/become/how-to-become-a-data-scientist', 'https://www.edx.org/masters/masters-in-public-health-online', 'https://www.edx.org/become/how-to-become-a-cybersecurity-analyst']\n",
            "leading: ['https://www.muvi.com/one/migrate-muvi/', 'https://www.learnworlds.com/nailarts', 'https://www.thinkific.com/solutions/revenue-generation/', 'https://www.muvi.com/judiciary/', 'https://www.muvi.com/windows-desktop-app/', 'https://www.muvi.com/tv/', 'https://www.thinkific.com/about/', 'https://www.muvi.com/health-fitness/', 'https://www.thinkific.com/features/selling-tools/', 'https://www.muvi.com/try-muvi-products/', 'https://www.muvi.com/one/podcast/', 'https://www.muvi.com/broadcasters-mso/', 'https://www.edx.org/learn/excel', 'https://www.muvi.com/android-tv-app/', 'https://www.learnworlds.com/solutions', 'https://www.muvi.com/one/features/mobile-software-development-kit/', 'https://www.teachable.com/b/news/creator-stories', 'https://www.muvi.com/examples/', 'https://www.learnworlds.com/health', 'https://www.muvi.com/flex/', 'https://www.muvi.com/healthcare/', 'https://www.muvi.com/finance/', 'https://www.hippovideo.io/free.html', 'https://www.teachable.com/ai-hub', 'https://www.hippovideo.io', 'https://www.thinkific.com/case-studies/flashpoint/', 'https://www.muvi.com/live/', 'https://www.muvi.com/sports/', 'https://www.muvi.com/enterprises/', 'https://www.learnworlds.com/calisthenics', 'https://www.muvi.com/live/video-live-streaming/', 'https://www.muvi.com/one/web/', 'https://www.muvi.com/government-public-sector/', 'https://www.teachable.com/app-hub', 'https://www.muvi.com/one/iptv-solution/', 'https://www.learnworlds.com/droneit', 'https://www.muvi.com/live/meetings/', 'https://www.teachable.com/partners', 'https://www.muvi.com/ask-sales/', 'https://www.thinkific.com/', 'https://www.hippovideo.io/industries/videos-for-insurance.html', 'https://www.muvi.com/one/mobile-and-tv-apps/', 'https://www.muvi.com/xbox-app/', 'https://www.muvi.com/bring-your-own-cms/', 'https://www.muvi.com/suggest-iq/', 'https://www.dacast.com/stream-live-video-on-your-website/', 'https://www.muvi.com/player/', 'https://www.thinkific.com/plus/', 'https://www.learnworlds.com/enterprise-lms', 'https://www.hippovideo.io/industries/hospitality-video-rfp.html', 'https://www.muvi.com/sony-playstation/', 'https://www.hippovideo.io/ai-video-chatbot', 'https://www.hippovideo.io/use-cases/pre-sales.html', 'https://www.muvi.com/religion/', 'https://www.muvi.com/one/video-on-demand-vod/', 'https://www.edx.org/', 'https://www.muvi.com/education/', 'https://www.muvi.com/one/pricing/', 'https://www.muvi.com/demo/', 'https://www.muvi.com/playout/', 'https://www.udemy.com/browse/certification/', 'https://www.muvi.com/one/film-festivals/', 'https://www.learnworlds.com/learning-liaisons', 'https://www.edx.org/masters/healthcare', 'https://www.learnworlds.com/integrations', 'https://www.muvi.com/offline-streaming/', 'https://www.hippovideo.io/webinars.html', 'https://www.learnworlds.com/for-business', 'https://www.thinkific.com', 'https://www.thinkific.com/features/memberships/', 'https://www.hippovideo.io/video-email-guide.html', 'https://www.muvi.com/android-app/', 'https://www.muvi.com/one/', 'https://www.muvi.com/flex/video-hosting-platform/', 'https://www.thinkific.com/case-studies/chargebee/', 'https://www.muvi.com/entertainment/', 'https://www.muvi.com/ios-app/', 'https://www.muvi.com/one/online-video-platform/', 'https://www.edx.org/learn/python', 'https://www.muvi.com/alie/', 'https://www.learnworlds.com/', 'https://www.muvi.com', 'https://www.edx.org/bachelors', 'https://www.learnworlds.com/employee-training-lms', 'https://www.thinkific.com/solutions/customer-training/', 'https://www.hippovideo.io/index.html', 'https://www.muvi.com/telcos/', 'https://www.learnworlds.com', 'https://www.edx.org', 'https://www.edx.org/learn/project-management', 'https://www.muvi.com/live/event-live-streaming/', 'https://www.muvi.com/roku-channel/', 'https://www.thinkific.com/press/', 'https://www.muvi.com/test-smart-tv-apps-remotely/', 'https://www.hippovideo.io/video-script-timer.html', 'https://www.learnworlds.com/improvpiano', 'https://www.muvi.com/one/audio-on-demand-aod/']\n",
            "institutions: ['https://www.dacast.com/cdn-live-streaming/', 'https://www.muvi.com/one/migrate-muvi/', 'https://www.muvi.com/windows-desktop-app/', 'https://www.dacast.com/player-api-documentation/', 'https://www.dacast.com', 'https://www.muvi.com/try-muvi-products/', 'https://www.muvi.com/one/podcast/', 'https://www.muvi.com/broadcasters-mso/', 'https://www.dacast.com/secure-video-upload/', 'https://www.muvi.com/examples/', 'https://www.muvi.com/flex/', 'https://www.dacast.com/streaming-solutions/', 'https://www.dacast.com/video-marketing-tools/', 'https://www.dacast.com/private-video-sharing/', 'https://www.dacast.com/streaming-video-for-government-municipality/', 'https://www.muvi.com/finance/', 'https://www.dacast.com/rtmp-streaming-platform/', 'https://www.dacast.com/video-analytics/', 'https://www.dacast.com/pay-per-view-streaming/', 'https://www.edx.org/masters/online-msn-programs', 'https://www.dacast.com/video-transcoding/', 'https://www.muvi.com/live/', 'https://www.dacast.com/live-streaming-for-musicians/', 'https://www.dacast.com/online-video-publishing-platform/', 'https://www.muvi.com/live/video-live-streaming/', 'https://www.dacast.com/online-video-marketing-platform/', 'https://www.muvi.com/one/web/', 'https://www.dacast.com/live-streaming-pricing-plans/', 'https://www.dacast.com/church-live-streaming/', 'https://www.dacast.com/video-api/', 'https://www.dacast.com#main', 'https://www.dacast.com/hls-streaming-platform/', 'https://www.dacast.com/video-selling-software/', 'https://www.muvi.com/xbox-app/', 'https://www.dacast.com/video-hosting-china/', 'https://www.muvi.com/suggest-iq/', 'https://www.dacast.com/stream-live-video-on-your-website/', 'https://www.dacast.com/video-on-demand-vod/', 'https://www.muvi.com/player/', 'https://www.dacast.com/html5-video-player/', 'https://www.dacast.com/streaming-solutions-tv-radio/', 'https://www.dacast.com/why-dacast-to-broadcast-live/', 'https://www.muvi.com/sony-playstation/', 'https://www.dacast.com/live-event-streaming/', 'https://www.dacast.com/enterprise-video-platform/', 'https://www.edx.org/', 'https://www.muvi.com/education/', 'https://www.muvi.com/one/pricing/', 'https://www.muvi.com/playout/', 'https://www.dacast.com/online-video-hosting/', 'https://www.dacast.com/video-monetization/', 'https://www.edx.org/bachelors/online-bachelors-degree-finance', 'https://www.dacast.com/expo-video-gallery/', 'https://www.muvi.com/one/film-festivals/', 'https://www.edx.org/masters/healthcare', 'https://www.edx.org/bachelors/health-social-services', 'https://www.dacast.com/multistreaming/', 'https://www.dacast.com/video-streaming-case-studies/', 'https://www.dacast.com/player-api-documentation/#aios', 'https://www.edx.org/bachelors/business', 'https://www.thinkific.com/case-studies/hootsuite/', 'https://www.dacast.com/live-streaming-platform/', 'https://www.dacast.com/online-video-education-platform/', 'https://www.muvi.com/android-app/', 'https://www.muvi.com/one/', 'https://www.dacast.com/live-streaming-fitness-classes/', 'https://www.dacast.com/developer-tools/', 'https://www.muvi.com/ios-app/', 'https://www.thinkific.com/case-studies/schudio/', 'https://www.dacast.com/ovp-online-video-platform/', 'https://www.dacast.com/ott-platform/', 'https://www.muvi.com/one/online-video-platform/', 'https://www.dacast.com/video-hosting-manager/', 'https://www.dacast.com/category/blog/', 'https://www.dacast.com/broadcast-sports/', 'https://www.dacast.com/category/latest-news/', 'https://www.edx.org', 'https://www.muvi.com/live/event-live-streaming/', 'https://www.muvi.com/roku-channel/', 'https://www.muvi.com/test-smart-tv-apps-remotely/', 'https://www.edx.org/learn/spanish', 'https://www.dacast.com/video-platform-for-agencies/']\n",
            "learn: ['https://www.muvi.com/one/migrate-muvi/', 'https://www.muvi.com/judiciary/', 'https://www.muvi.com/windows-desktop-app/', 'https://www.thinkific.com/about/', 'https://www.muvi.com/broadcasters-mso/', 'https://www.edx.org/learn/artificial-intelligence', 'https://www.dacast.com/secure-video-upload/', 'https://www.learnworlds.com/popup-builder', 'https://www.muvi.com/flex/', 'https://www.learnworlds.com/live-sessions', 'https://www.muvi.com/healthcare/', 'https://www.dacast.com/video-marketing-tools/', 'https://www.dacast.com/rtmp-streaming-platform/', 'https://www.dacast.com/video-analytics/', 'https://www.dacast.com/pay-per-view-streaming/', 'https://www.edx.org/masters/online-msn-programs', 'https://www.dacast.com/video-transcoding/', 'https://www.learnworlds.com/built-smarter-academy/', 'https://www.muvi.com/enterprises/', 'https://www.dacast.com/live-streaming-for-musicians/', 'https://www.proxlearn.com/in-person-schools', 'https://www.dacast.com/online-video-publishing-platform/', 'https://www.dacast.com/online-video-marketing-platform/', 'https://www.muvi.com/live/video-live-streaming/', 'https://www.muvi.com/one/web/', 'https://www.teachable.com/products', 'https://www.muvi.com/government-public-sector/', 'https://www.udemy.com', 'https://www.dacast.com/church-live-streaming/', 'https://www.edx.org/learn/architecture', 'https://www.hippovideo.io/ai.html', 'https://www.edx.org/masters/online-slp-programs', 'https://www.muvi.com/live/meetings/', 'https://www.edx.org/become/how-to-become-a-social-media-manager', 'https://www.edx.org/search?q=business', 'https://www.dacast.com#main', 'https://www.hippovideo.io/industries/videos-for-insurance.html', 'https://www.hippovideo.io/products/video-sdk.html', 'https://www.dacast.com/hls-streaming-platform/', 'https://www.muvi.com/xbox-app/', 'https://www.hippovideo.io/industries/healthcare-insurance.html', 'https://www.teachable.com/careers', 'https://www.learnworlds.com/experts-directory/', 'https://www.proxlearn.com/by-the-numbers', 'https://www.muvi.com/player/', 'https://www.thinkific.com/features/branded-mobile/', 'https://www.thinkific.com/plus/', 'https://www.learnworlds.com/enterprise-lms', 'https://www.hippovideo.io/industries/hospitality-video-rfp.html', 'https://www.dacast.com/why-dacast-to-broadcast-live/', 'https://www.proxlearn.com/resources', 'https://www.hippovideo.io/ai-video-chatbot', 'https://www.muvi.com/one/video-on-demand-vod/', 'https://www.dacast.com/enterprise-video-platform/', 'https://www.edx.org/', 'https://www.thinkific.com/case-studies/baking-business-success-story/', 'https://www.thinkific.com/solutions/market-leaders-companies/', 'https://www.thinkific.com/resources/', 'https://www.edx.org/learn/government/harvard-university-american-government-constitutional-foundations', 'https://www.thinkific.com/features/coaching-webinars/', 'https://www.muvi.com/one/film-festivals/', 'https://www.learnworlds.com/best-retail-lms/', 'https://www.hippovideo.io/webinars.html', 'https://www.learnworlds.com/for-business', 'https://www.edx.org/search?q=finance', 'https://www.thinkific.com/privacy-policy/', 'https://www.edx.org/bachelors/business', 'https://www.proxlearn.com/cyber-safety-tips-security-best-practices-proximity-learning', 'https://www.muvi.com/entertainment/', 'https://www.proxlearn.com/videos', 'https://www.hippovideo.io/create-free-video-resume.html', 'https://www.edx.org/learn/python', 'https://www.learnworlds.com/creators', 'https://www.teachable.com/creator-support-services', 'https://www.udemy.com/', 'https://www.hippovideo.io/features/ai-avatar-video-generator.html', 'https://www.teachable.com/', 'https://www.teachable.com/industry/academics-and-languages', 'https://www.muvi.com', 'https://www.thinkific.com/terms-of-service/', 'https://www.teachable.com/guides-and-how-tos', 'https://www.proxlearn.com#talk-to-us', 'https://www.muvi.com/telcos/', 'https://www.edx.org/learn/project-management', 'https://www.teachable.com/resources', 'https://www.thinkific.com/case-studies/keap/', 'https://www.muvi.com/live/event-live-streaming/', 'https://www.hippovideo.io/industries/personalized-guest-videos.html', 'https://www.hippovideo.io/video-script-timer.html', 'https://www.learnworlds.com/custom-user-roles', 'https://www.edx.org/search?q=ai', 'https://www.learnworlds.com/improvpiano', 'https://www.dacast.com/cdn-live-streaming/', 'https://www.learnworlds.com/blog', 'https://www.dacast.com', 'https://www.muvi.com/try-muvi-products/', 'https://www.muvi.com/one/podcast/', 'https://www.teachable.com/examples', 'https://www.hippovideo.io/integrations/hubspot-video.html', 'https://www.thinkific.com/features/digital-downloads/', 'https://www.muvi.com/one/features/mobile-software-development-kit/', 'https://www.thinkific.com/features/analytics/', 'https://www.thinkific.com/features/landing-pages/', 'https://www.dacast.com/streaming-solutions/', 'https://www.dacast.com/private-video-sharing/', 'https://www.hippovideo.io/free.html', 'https://www.hippovideo.io', 'https://www.edx.org/masters/online-mba', 'https://www.udemy.com/ai-roleplay/', 'https://www.muvi.com/live/', 'https://www.proxlearn.com/', 'https://www.hippovideo.io/use-cases/sales-enablement.html', 'https://www.teachable.com/memberships', 'https://www.learnworlds.com/calisthenics', 'https://www.teachable.com/app-hub', 'https://www.hippovideo.io/ebooks.html', 'https://www.edx.org/learn/computer-programming', 'https://www.teachable.com/watch-demo', 'https://www.thinkific.com/case-studies/miss-excel-online-course-tiktok-launch/', 'https://www.dacast.com/video-api/', 'https://www.hippovideo.io/features/ai-editor.html', 'https://www.muvi.com/one/mobile-and-tv-apps/', 'https://www.edx.org/learn/blockchain', 'https://www.hippovideo.io/industries/digital-marketing-agencies.html', 'https://www.edx.org/learn/business-administration', 'https://www.teachable.com/start-your-business', 'https://www.hippovideo.io/industries/real-estate.html', 'https://www.udemy.com/featured-topics/', 'https://www.dacast.com/video-on-demand-vod/', 'https://www.dacast.com/html5-video-player/', 'https://www.edx.org/masters/online-masters-in-engineering', 'https://www.dacast.com/streaming-solutions-tv-radio/', 'https://www.edx.org/become/how-to-become-a-data-scientist', 'https://www.hippovideo.io/use-cases/pre-sales.html', 'https://www.learnworlds.com/ai-central', 'https://www.dacast.com/live-event-streaming/', 'https://www.muvi.com/religion/', 'https://www.proxlearn.com/teacher-excellence', 'https://www.teachable.com/blog', 'https://www.thinkific.com/plus/referacustomer/', 'https://www.muvi.com/demo/', 'https://www.edx.org/masters/healthcare', 'https://www.learnworlds.com/integrations', 'https://www.thinkific.com/security-overview/', 'https://www.teachable.com/digital-downloads', 'https://www.hippovideo.io/features/ai-video-script-generator.html', 'https://www.hippovideo.io/features/video-flows.html', 'https://www.thinkific.com', 'https://www.thinkific.com/case-studies/hootsuite/', 'https://www.dacast.com/online-video-education-platform/', 'https://www.learnworlds.com/finance', 'https://www.learnworlds.com/survey-builder', 'https://www.teachable.com/community', 'https://www.edx.org/learn/economics', 'https://www.hippovideo.io/industries/travel.html', 'https://www.udemy.com#main-content-anchor', 'https://www.proxlearn.com/parent', 'https://www.dacast.com/video-hosting-manager/', 'https://www.thinkific.com/affiliates/', 'https://www.learnworlds.com/all-features', 'https://www.learnworlds.com/employee-training-lms', 'https://www.learnworlds.com', 'https://www.edx.org/search', 'https://www.proxlearn.com/live-virtual-summer-school', 'https://www.edx.org/learn/computer-science/harvard-university-cs50-s-introduction-to-computer-science', 'https://www.hippovideo.io/love.html', 'https://www.edx.org/bachelors/bachelors-in-public-health-online', 'https://www.hippovideo.io/podcasts/sales-and-marketing.html', 'https://www.edx.org/learn', 'https://www.hippovideo.io/product-tour.html', 'https://www.hippovideo.io/webcam-test.html', 'https://www.thinkific.com/features/time-saving-tools/', 'https://www.muvi.com/one/audio-on-demand-aod/', 'https://www.thinkific.com/solutions/revenue-generation/', 'https://www.teachable.com/grow-your-business', 'https://www.hippovideo.io/video-marketing.html', 'https://www.muvi.com/tv/', 'https://www.edx.org/masters/masters-in-education-online', 'https://www.hippovideo.io/features/text-to-video.html', 'https://www.thinkific.com/solutions/lead-generation/', 'https://www.edx.org/learn/excel', 'https://www.hippovideo.io/video-personalization.html', 'https://www.learnworlds.com/solutions', 'https://www.thinkific.com/features/courses/', 'https://www.muvi.com/finance/', 'https://www.dacast.com/streaming-video-for-government-municipality/', 'https://www.teachable.com/ai-hub', 'https://www.learnworlds.com/marketing-tools', 'https://www.thinkific.com/pricing/', 'https://www.learnworlds.com/watch-demo', 'https://www.hippovideo.io/features/document-to-video.html', 'https://www.thinkific.com/faq/', 'https://www.hippovideo.io/all-features.html', 'https://www.hippovideo.io/industries/video-for-saas.html', 'https://www.thinkific.com/plus/plus-customer-enquiries/', 'https://www.dacast.com/live-streaming-pricing-plans/', 'https://www.edx.org/learn/software-engineering', 'https://www.edx.org/bachelors/computer-data-sciences', 'https://www.learnworlds.com/website-builder', 'https://www.learnworlds.com/daily-webinars', 'https://www.hippovideo.io/use-cases/customer-success.html', 'https://www.teachable.com/online-courses', 'https://www.learnworlds.com/droneit', 'https://www.thinkific.com/case-studies/', 'https://www.proxlearn.com/where-we-operate', 'https://www.thinkific.com/solutions/subject-matter-experts/', 'https://www.thinkific.com/', 'https://www.dacast.com/video-selling-software/', 'https://www.muvi.com/bring-your-own-cms/', 'https://www.thinkific.com/cookies-policy/', 'https://www.udemy.com/invite/', 'https://www.teachable.com/staff-picks', 'https://www.learnworlds.com/how-to-sell-corporate-training-programs/', 'https://www.learnworlds.com/mobile-app', 'https://www.muvi.com/sony-playstation/', 'https://www.learnworlds.com/flexible-courses', 'https://www.muvi.com/education/', 'https://www.muvi.com/playout/', 'https://www.learnworlds.com/scorm', 'https://www.dacast.com/online-video-hosting/', 'https://www.udemy.com/browse/certification/', 'https://www.dacast.com/video-monetization/', 'https://www.learnworlds.com/checkout-and-payments', 'https://www.edx.org/bachelors/online-bachelors-degree-finance', 'https://www.proxlearn.com/live-virtual-k-12-education', 'https://www.dacast.com/expo-video-gallery/', 'https://www.muvi.com/offline-streaming/', 'https://www.hippovideo.io/video-selling-resources.html', 'https://www.proxlearn.com/events', 'https://www.dacast.com/multistreaming/', 'https://www.edx.org/masters/online-msw-programs', 'https://www.learnworlds.com/coaching', 'https://www.learnworlds.com/white-label-website', 'https://www.thinkific.com/features/memberships/', 'https://www.muvi.com/one/', 'https://www.muvi.com/flex/video-hosting-platform/', 'https://www.thinkific.com/case-studies/chargebee/', 'https://www.teachable.com/student-experience', 'https://www.proxlearn.com', 'https://www.thinkific.com/case-studies/schudio/', 'https://www.dacast.com/ott-platform/', 'https://www.muvi.com/one/online-video-platform/', 'https://www.edx.org/become', 'https://www.proxlearn.com/courses', 'https://www.learnworlds.com/', 'https://www.teachable.com/teachable-u', 'https://www.edx.org/learn/democracy/harvard-university-we-the-people-civic-engagement-in-a-constitutional-democracy', 'https://www.learnworlds.com/non-profit', 'https://www.dacast.com/broadcast-sports/', 'https://www.learnworlds.com/bundles-and-subscriptions', 'https://www.edx.org/search?q=data science', 'https://www.hippovideo.io/integrations/video-for-salesloft.html', 'https://www.hippovideo.io/sales-roi-calculator-for-videos.html', 'https://www.muvi.com/roku-channel/', 'https://www.thinkific.com/press/', 'https://www.edx.org/become/how-to-become-a-software-engineer-without-a-degree', 'https://www.muvi.com/test-smart-tv-apps-remotely/', 'https://www.edx.org/bachelors/psychology', 'https://www.thinkific.com/solutions/academies/', 'https://www.edx.org/become/how-to-become-a-cybersecurity-analyst', 'https://www.learnworlds.com/nailarts', 'https://www.muvi.com/health-fitness/', 'https://www.thinkific.com/features/selling-tools/', 'https://www.edx.org/bachelors/online-accounting-bachelor-degree', 'https://www.edx.org/masters/online-masters-in-data-science', 'https://www.teachable.com/house-rules', 'https://www.muvi.com/android-tv-app/', 'https://www.edx.org/become/how-to-become-a-software-developer', 'https://www.teachable.com/b/news/creator-stories', 'https://www.muvi.com/examples/', 'https://www.learnworlds.com/health', 'https://www.learnworlds.com/how-to-build-a-coaching-program/', 'https://www.edx.org/masters/micromasters/mitx-supply-chain-management', 'https://www.thinkific.com/blog/', 'https://www.learnworlds.com/interactive-video', 'https://www.hippovideo.io/mic-test.html', 'https://www.thinkific.com/case-studies/flashpoint/', 'https://www.muvi.com/sports/', 'https://www.learnworlds.com/resources', 'https://www.hippovideo.io/faq.html', 'https://www.thinkific.com/examples/', 'https://www.learnworlds.com/case-studies', 'https://www.udemy.com/cart/', 'https://www.muvi.com/one/iptv-solution/', 'https://www.hippovideo.io/products/video-campaigns.html', 'https://www.hippovideo.io/integrations/gong.html', 'https://www.muvi.com/ask-sales/', 'https://www.teachable.com', 'https://www.edx.org/learn/chatgpt', 'https://www.dacast.com/video-hosting-china/', 'https://www.muvi.com/suggest-iq/', 'https://www.dacast.com/stream-live-video-on-your-website/', 'https://www.teachable.com/expand-your-business', 'https://www.thinkific.com/careers/', 'https://www.learnworlds.com/fitness', 'https://www.hippovideo.io/video-for-sales-and-prospecting.html', 'https://www.teachable.com/analytics-and-reporting', 'https://www.edx.org/executive-education/massachusetts-institute-of-technology-artificial-intelligence-implications-for-business-strategy', 'https://www.proxlearn.com/proximity-learning-virtual-case-management-services', 'https://www.muvi.com/one/pricing/', 'https://www.learnworlds.com/learning-liaisons', 'https://www.hippovideo.io/features/humanize/', 'https://www.edx.org/bachelors/health-social-services', 'https://www.thinkific.com/features/learning-communities/', 'https://www.hippovideo.io/customersupport.html', 'https://www.teachable.com/mobile-app', 'https://www.hippovideo.io/team-communication.html', 'https://www.hippovideo.io/sales-landing-page-with-video.html', 'https://www.thinkific.com/legal/', 'https://www.edx.org/bachelors/social-work-bsw', 'https://www.edx.org/level-up-promo', 'https://www.dacast.com/live-streaming-platform/', 'https://www.learnworlds.com/analytics-and-reports', 'https://www.hippovideo.io/video-email-guide.html', 'https://www.muvi.com/android-app/', 'https://www.dacast.com/live-streaming-fitness-classes/', 'https://www.dacast.com/developer-tools/', 'https://www.thinkific.com/features/thinkific-payments/', 'https://www.muvi.com/ios-app/', 'https://www.edx.org/masters/masters-in-public-health-online', 'https://www.dacast.com/ovp-online-video-platform/', 'https://www.teachable.com/experts', 'https://www.learnworlds.com/pricing/', 'https://www.muvi.com/alie/', 'https://www.proxlearn.com/sped', 'https://www.thinkific.com/experts/', 'https://www.learnworlds.com/ai', 'https://www.edx.org/bachelors', 'https://www.thinkific.com/solutions/customer-training/', 'https://www.hippovideo.io/index.html', 'https://www.thinkific.com/partners/', 'https://www.edx.org', 'https://www.learnworlds.com/customer-training-lms', 'https://www.learnworlds.com/affiliates', 'https://www.proxlearn.com/live-virtual-tutoring', 'https://www.proxlearn.com/blog', 'https://www.thinkific.com/case-studies/easily-excel-success-story/', 'https://www.edx.org/learn/spanish', 'https://www.thinkific.com/features/email-automation/', 'https://www.hippovideo.io/use-cases/sales.html', 'https://www.dacast.com/video-platform-for-agencies/', 'https://www.learnworlds.com/assessment-builder']\n",
            "search: ['https://www.dacast.com/cdn-live-streaming/', 'https://www.teachable.com/grow-your-business', 'https://www.muvi.com/judiciary/', 'https://www.edx.org/masters/masters-in-education-online', 'https://www.dacast.com/player-api-documentation/', 'https://www.learnworlds.com/blog', 'https://www.dacast.com', 'https://www.edx.org/bachelors/online-accounting-bachelor-degree', 'https://fullmind.com/metodo-fullmind', 'https://www.edx.org/masters/online-masters-in-data-science', 'https://www.teachable.com/examples', 'https://www.edx.org/learn/excel', 'https://www.edx.org/learn/artificial-intelligence', 'https://fullmind.com/go/esperienza-4/#comment-20', 'https://www.edx.org/become/how-to-become-a-software-developer', 'https://www.dacast.com/secure-video-upload/', 'https://www.dacast.com/pt/', 'https://www.thinkific.com/features/landing-pages/', 'https://www.dacast.com/it/', 'https://www.dacast.com/streaming-solutions/', 'https://www.dacast.com/video-marketing-tools/', 'https://www.dacast.com/private-video-sharing/', 'https://www.dacast.com/streaming-video-for-government-municipality/', 'https://fullmind.com/go/esperienza-1/#comment-8', 'https://www.edx.org/masters/micromasters/mitx-supply-chain-management', 'https://www.dacast.com/rtmp-streaming-platform/', 'https://www.dacast.com/video-analytics/', 'https://www.dacast.com/pay-per-view-streaming/', 'https://www.edx.org/masters/online-mba', 'https://www.learnworlds.com/marketing-tools', 'https://www.hippovideo.io/mic-test.html', 'https://www.muvi.com/one/audio-on-demand-aod/', 'https://www.edx.org/masters/online-msn-programs', 'https://www.dacast.com/video-transcoding/', 'https://www.udemy.com/ai-roleplay/', 'https://www.thinkific.com/case-studies/flashpoint/', 'https://fullmind.com/go/esperienza-2/#comment-11', 'https://www.dacast.com/live-streaming-for-musicians/', 'https://www.proxlearn.com/policies/terms-of-service', 'https://fullmind.com/go/esperienza-4/#comment-21', 'https://www.dacast.com/online-video-publishing-platform/', 'https://www.dacast.com/online-video-marketing-platform/', 'https://fullmind.com/go/2006/08/', 'https://www.thinkific.com/faq/', 'https://fullmind.com/go/esperienza-2/', 'https://www.thinkific.com/examples/', 'https://fullmind.com/', 'https://www.udemy.com', 'https://www.udemy.com/cart/', 'https://www.dacast.com/es/', 'https://www.dacast.com/live-streaming-pricing-plans/', 'https://www.dacast.com/church-live-streaming/', 'https://www.edx.org/learn/software-engineering', 'https://www.edx.org/bachelors/computer-data-sciences', 'https://www.edx.org/learn/computer-programming', 'https://www.learnworlds.com/website-builder', 'https://www.edx.org/learn/architecture', 'https://www.edx.org/masters/online-slp-programs', 'https://www.dacast.com/video-api/', 'https://www.edx.org/become/how-to-become-a-social-media-manager', 'https://fullmind.com#content', 'https://www.edx.org/search?q=business', 'https://www.dacast.com#main', 'https://www.dacast.com/hls-streaming-platform/', 'https://www.dacast.com/video-selling-software/', 'https://www.edx.org/learn/chatgpt', 'https://www.edx.org/learn/blockchain', 'https://www.dacast.com/video-hosting-china/', 'https://www.edx.org/learn/business-administration', 'https://www.teachable.com/careers', 'https://fullmind.com', 'https://www.teachable.com/start-your-business', 'https://www.muvi.com/suggest-iq/', 'https://www.learnworlds.com/experts-directory/', 'https://www.dacast.com/stream-live-video-on-your-website/', 'https://fullmind.com/cat/audio/', 'https://www.udemy.com/featured-topics/', 'https://www.dacast.com/video-on-demand-vod/', 'https://www.udemy.com/invite/', 'https://www.dacast.com/html5-video-player/', 'https://fullmind.com/cat/audio/esperienze/', 'https://www.learnworlds.com/enterprise-lms', 'https://www.edx.org/masters/online-masters-in-engineering', 'https://www.hippovideo.io/blog/', 'https://fullmind.com/go/esperienza-3/', 'https://www.dacast.com/streaming-solutions-tv-radio/', 'https://www.dacast.com/why-dacast-to-broadcast-live/', 'https://fullmind.com/go/esperienza-1/', 'https://www.edx.org/become/how-to-become-a-data-scientist', 'https://www.dacast.com/live-event-streaming/', 'https://www.edx.org/executive-education/massachusetts-institute-of-technology-artificial-intelligence-implications-for-business-strategy', 'https://www.dacast.com/enterprise-video-platform/', 'https://www.edx.org/', 'https://www.muvi.com/one/pricing/', 'https://www.dacast.com/online-video-hosting/', 'https://www.udemy.com/browse/certification/', 'https://www.dacast.com/video-monetization/', 'https://www.edx.org/learn/government/harvard-university-american-government-constitutional-foundations', 'https://www.edx.org/bachelors/online-bachelors-degree-finance', 'https://www.dacast.com/expo-video-gallery/', 'https://www.dacast.com/fr/', 'https://fullmind.com/cat/blog/', 'https://www.edx.org/bachelors/health-social-services', 'https://www.edx.org/masters/healthcare', 'https://www.learnworlds.com/integrations', 'https://www.proxlearn.com/events', 'https://www.dacast.com/multistreaming/', 'https://www.edx.org/masters/online-msw-programs', 'https://www.teachable.com/mobile-app', 'https://www.dacast.com/video-streaming-case-studies/', 'https://www.learnworlds.com/best-retail-lms/', 'https://www.dacast.com/player-api-documentation/#aios', 'https://www.edx.org/search?q=finance', 'https://www.edx.org/bachelors/business', 'https://www.edx.org/bachelors/social-work-bsw', 'https://www.edx.org/level-up-promo', 'https://www.dacast.com/live-streaming-platform/', 'https://www.dacast.com/online-video-education-platform/', 'https://fullmind.com/home', 'https://www.muvi.com/android-app/', 'https://fullmind.com/go/esperienza-4/', 'https://www.udemy.com/mobile/', 'https://www.thinkific.com/case-studies/chargebee/', 'https://www.dacast.com/live-streaming-fitness-classes/', 'https://fullmind.com/go/attacchi-di-panico-cosa-sono/', 'https://www.dacast.com/developer-tools/', 'https://www.muvi.com/ios-app/', 'https://www.thinkific.com/case-studies/schudio/', 'https://www.teachable.com/industry/spirituality-and-worship', 'https://www.edx.org/masters/masters-in-public-health-online', 'https://www.edx.org/learn/economics', 'https://www.udemy.com#main-content-anchor', 'https://www.dacast.com/ovp-online-video-platform/', 'https://www.teachable.com/experts', 'https://www.dacast.com/ott-platform/', 'https://www.dacast.com/video-hosting-manager/', 'https://www.edx.org/learn/python', 'https://www.edx.org/become', 'https://www.muvi.com/alie/', 'https://www.proxlearn.com/courses', 'https://www.udemy.com/', 'https://www.teachable.com/industry/academics-and-languages', 'https://www.dacast.com/category/blog/', 'https://www.thinkific.com/terms-of-service/', 'https://www.teachable.com/guides-and-how-tos', 'https://www.edx.org/bachelors', 'https://www.edx.org/learn/democracy/harvard-university-we-the-people-civic-engagement-in-a-constitutional-democracy', 'https://www.learnworlds.com/non-profit', 'https://www.teachable.com/site-builder', 'https://www.dacast.com/broadcast-sports/', 'https://www.dacast.com/category/latest-news/', 'https://fullmind.com/metodo-fullmind/istruzioni', 'https://www.edx.org', 'https://www.edx.org/search', 'https://www.edx.org/learn/project-management', 'https://www.edx.org/learn/computer-science/harvard-university-cs50-s-introduction-to-computer-science', 'https://www.edx.org/search?q=data science', 'https://fullmind.com/go/esperienza-3/#comment-13', 'https://www.edx.org/bachelors/bachelors-in-public-health-online', 'https://fullmind.com/go/2011/08/', 'https://www.edx.org/become/how-to-become-a-software-engineer-without-a-degree', 'https://www.edx.org/learn/spanish', 'https://www.edx.org/learn', 'https://www.edx.org/bachelors/psychology', 'https://www.edx.org/search?q=ai', 'https://www.hippovideo.io/webcam-test.html', 'https://www.dacast.com/video-platform-for-agencies/', 'https://www.learnworlds.com/assessment-builder', 'https://www.edx.org/become/how-to-become-a-cybersecurity-analyst']\n",
            "popular: ['https://www.hippovideo.io/product-tour.html', 'https://www.dacast.com/cdn-live-streaming/', 'https://www.muvi.com/judiciary/', 'https://www.edx.org/masters/masters-in-education-online', 'https://www.learnworlds.com/blog', 'https://www.edx.org/bachelors/online-accounting-bachelor-degree', 'https://www.edx.org/masters/online-masters-in-data-science', 'https://www.edx.org/learn/excel', 'https://www.edx.org/learn/artificial-intelligence', 'https://www.edx.org/become/how-to-become-a-software-developer', 'https://www.dacast.com/secure-video-upload/', 'https://www.muvi.com/examples/', 'https://www.dacast.com/streaming-solutions/', 'https://www.dacast.com/video-marketing-tools/', 'https://www.dacast.com/private-video-sharing/', 'https://www.dacast.com/streaming-video-for-government-municipality/', 'https://www.muvi.com/finance/', 'https://www.edx.org/masters/micromasters/mitx-supply-chain-management', 'https://www.hippovideo.io', 'https://www.dacast.com/rtmp-streaming-platform/', 'https://www.dacast.com/video-analytics/', 'https://www.dacast.com/pay-per-view-streaming/', 'https://www.edx.org/masters/online-mba', 'https://www.edx.org/masters/online-msn-programs', 'https://www.dacast.com/video-transcoding/', 'https://www.udemy.com/ai-roleplay/', 'https://www.proxlearn.com/', 'https://www.muvi.com/sports/', 'https://www.thinkific.com/pricing/', 'https://www.dacast.com/live-streaming-for-musicians/', 'https://www.teachable.com/memberships', 'https://www.proxlearn.com/in-person-schools', 'https://www.dacast.com/online-video-publishing-platform/', 'https://www.dacast.com/online-video-marketing-platform/', 'https://www.thinkific.com/faq/', 'https://www.udemy.com', 'https://www.learnworlds.com/case-studies', 'https://www.udemy.com/cart/', 'https://www.dacast.com/live-streaming-pricing-plans/', 'https://www.dacast.com/church-live-streaming/', 'https://www.edx.org/learn/software-engineering', 'https://www.edx.org/bachelors/computer-data-sciences', 'https://www.edx.org/learn/computer-programming', 'https://www.edx.org/learn/architecture', 'https://www.edx.org/masters/online-slp-programs', 'https://www.dacast.com/video-api/', 'https://www.edx.org/become/how-to-become-a-social-media-manager', 'https://www.edx.org/search?q=business', 'https://www.dacast.com/hls-streaming-platform/', 'https://www.dacast.com/video-selling-software/', 'https://www.edx.org/learn/chatgpt', 'https://www.edx.org/learn/blockchain', 'https://www.muvi.com/xbox-app/', 'https://www.dacast.com/video-hosting-china/', 'https://www.edx.org/learn/business-administration', 'https://www.dacast.com/stream-live-video-on-your-website/', 'https://www.udemy.com/featured-topics/', 'https://www.dacast.com/video-on-demand-vod/', 'https://www.udemy.com/invite/', 'https://www.muvi.com/player/', 'https://www.learnworlds.com/how-to-sell-corporate-training-programs/', 'https://www.dacast.com/html5-video-player/', 'https://www.learnworlds.com/fitness', 'https://www.edx.org/masters/online-masters-in-engineering', 'https://www.hippovideo.io/blog/', 'https://www.dacast.com/streaming-solutions-tv-radio/', 'https://www.hippovideo.io/video-for-sales-and-prospecting.html', 'https://www.dacast.com/why-dacast-to-broadcast-live/', 'https://www.learnworlds.com/flexible-courses', 'https://www.edx.org/become/how-to-become-a-data-scientist', 'https://www.dacast.com/live-event-streaming/', 'https://www.edx.org/executive-education/massachusetts-institute-of-technology-artificial-intelligence-implications-for-business-strategy', 'https://www.teachable.com/industry/fashion-and-beauty', 'https://www.dacast.com/enterprise-video-platform/', 'https://www.edx.org/', 'https://www.teachable.com/blog', 'https://www.thinkific.com/solutions/market-leaders-companies/', 'https://www.dacast.com/online-video-hosting/', 'https://www.udemy.com/browse/certification/', 'https://www.dacast.com/video-monetization/', 'https://www.edx.org/learn/government/harvard-university-american-government-constitutional-foundations', 'https://www.edx.org/bachelors/online-bachelors-degree-finance', 'https://www.proxlearn.com/live-virtual-k-12-education', 'https://www.dacast.com/expo-video-gallery/', 'https://www.edx.org/bachelors/health-social-services', 'https://www.edx.org/masters/healthcare', 'https://www.learnworlds.com/integrations', 'https://www.thinkific.com/security-overview/', 'https://www.dacast.com/multistreaming/', 'https://www.edx.org/masters/online-msw-programs', 'https://www.hippovideo.io/team-communication.html', 'https://www.learnworlds.com/best-retail-lms/', 'https://www.edx.org/search?q=finance', 'https://www.edx.org/bachelors/business', 'https://www.learnworlds.com/coaching', 'https://www.edx.org/bachelors/social-work-bsw', 'https://www.edx.org/level-up-promo', 'https://www.dacast.com/live-streaming-platform/', 'https://www.learnworlds.com/finance', 'https://www.dacast.com/online-video-education-platform/', 'https://www.hippovideo.io/video-email-guide.html', 'https://www.teachable.com/features', 'https://www.udemy.com/mobile/', 'https://www.dacast.com/live-streaming-fitness-classes/', 'https://www.dacast.com/developer-tools/', 'https://www.proxlearn.com', 'https://www.edx.org/masters/masters-in-public-health-online', 'https://www.edx.org/learn/economics', 'https://www.udemy.com#main-content-anchor', 'https://www.dacast.com/ovp-online-video-platform/', 'https://www.dacast.com/ott-platform/', 'https://www.dacast.com/video-hosting-manager/', 'https://www.edx.org/learn/python', 'https://www.edx.org/become', 'https://www.learnworlds.com/creators', 'https://www.learnworlds.com/pricing/', 'https://www.proxlearn.com/courses', 'https://www.udemy.com/', 'https://www.teachable.com/industry/academics-and-languages', 'https://www.proxlearn.com#talk-to-us', 'https://www.edx.org/bachelors', 'https://www.teachable.com/advanced-features', 'https://www.hippovideo.io/index.html', 'https://www.edx.org/learn/democracy/harvard-university-we-the-people-civic-engagement-in-a-constitutional-democracy', 'https://www.dacast.com/broadcast-sports/', 'https://www.edx.org', 'https://www.edx.org/search', 'https://www.edx.org/learn/project-management', 'https://www.edx.org/learn/computer-science/harvard-university-cs50-s-introduction-to-computer-science', 'https://www.edx.org/search?q=data science', 'https://www.edx.org/bachelors/bachelors-in-public-health-online', 'https://www.teachable.com/pricing', 'https://www.edx.org/become/how-to-become-a-software-engineer-without-a-degree', 'https://www.edx.org/learn/spanish', 'https://www.edx.org/learn', 'https://www.edx.org/bachelors/psychology', 'https://www.edx.org/search?q=ai', 'https://www.dacast.com/video-platform-for-agencies/', 'https://www.edx.org/become/how-to-become-a-cybersecurity-analyst']\n",
            "programs: ['https://www.learnworlds.com/nailarts', 'https://www.thinkific.com/solutions/revenue-generation/', 'https://www.muvi.com/windows-desktop-app/', 'https://www.edx.org/masters/masters-in-education-online', 'https://www.thinkific.com/about/', 'https://www.teachable.com/pay', 'https://www.thinkific.com/features/selling-tools/', 'https://www.learnworlds.com/blog', 'https://www.edx.org/bachelors/online-accounting-bachelor-degree', 'https://www.muvi.com/health-fitness/', 'https://www.edx.org/masters/online-masters-in-data-science', 'https://www.thinkific.com/solutions/lead-generation/', 'https://www.edx.org/learn/excel', 'https://www.edx.org/learn/artificial-intelligence', 'https://www.thinkific.com/features/digital-downloads/', 'https://www.edx.org/become/how-to-become-a-software-developer', 'https://www.learnworlds.com/solutions', 'https://www.muvi.com/android-tv-app/', 'https://www.learnworlds.com/popup-builder', 'https://www.thinkific.com/features/analytics/', 'https://www.thinkific.com/features/courses/', 'https://www.thinkific.com/features/landing-pages/', 'https://www.learnworlds.com/health', 'https://www.teachable.com/industry/lifestyle', 'https://www.learnworlds.com/how-to-build-a-coaching-program/', 'https://www.learnworlds.com/live-sessions', 'https://www.edx.org/masters/micromasters/mitx-supply-chain-management', 'https://www.thinkific.com/blog/', 'https://www.edx.org/masters/online-mba', 'https://www.learnworlds.com/marketing-tools', 'https://www.teachable.com/industry/health-and-fitness', 'https://www.learnworlds.com/interactive-video', 'https://www.edx.org/masters/online-msn-programs', 'https://www.learnworlds.com/built-smarter-academy/', 'https://www.thinkific.com/case-studies/flashpoint/', 'https://www.muvi.com/live/', 'https://www.muvi.com/enterprises/', 'https://www.thinkific.com/pricing/', 'https://www.learnworlds.com/watch-demo', 'https://www.learnworlds.com/resources', 'https://www.learnworlds.com/calisthenics', 'https://www.muvi.com/one/web/', 'https://www.thinkific.com/faq/', 'https://www.muvi.com/government-public-sector/', 'https://www.learnworlds.com/case-studies', 'https://www.thinkific.com/plus/plus-customer-enquiries/', 'https://www.edx.org/learn/software-engineering', 'https://www.edx.org/bachelors/computer-data-sciences', 'https://www.edx.org/learn/computer-programming', 'https://www.learnworlds.com/website-builder', 'https://www.edx.org/learn/architecture', 'https://www.thinkific.com/case-studies/miss-excel-online-course-tiktok-launch/', 'https://www.learnworlds.com/droneit', 'https://www.learnworlds.com/daily-webinars', 'https://www.thinkific.com/case-studies/', 'https://www.edx.org/masters/online-slp-programs', 'https://www.edx.org/become/how-to-become-a-social-media-manager', 'https://www.edx.org/search?q=business', 'https://www.thinkific.com/solutions/subject-matter-experts/', 'https://www.thinkific.com/', 'https://www.teachable.com/industry/arts-and-crafting', 'https://www.hippovideo.io/industries/videos-for-insurance.html', 'https://www.edx.org/learn/chatgpt', 'https://www.edx.org/learn/blockchain', 'https://www.thinkific.com/cookies-policy/', 'https://www.edx.org/learn/business-administration', 'https://www.learnworlds.com/experts-directory/', 'https://www.thinkific.com/careers/', 'https://www.teachable.com/staff-picks', 'https://www.learnworlds.com/how-to-sell-corporate-training-programs/', 'https://www.dacast.com/html5-video-player/', 'https://www.thinkific.com/features/branded-mobile/', 'https://www.thinkific.com/plus/', 'https://www.teachable.com/industry/software-and-technology', 'https://www.learnworlds.com/enterprise-lms', 'https://www.learnworlds.com/fitness', 'https://www.edx.org/masters/online-masters-in-engineering', 'https://www.learnworlds.com/mobile-app', 'https://www.learnworlds.com/flexible-courses', 'https://www.edx.org/become/how-to-become-a-data-scientist', 'https://www.learnworlds.com/ai-central', 'https://www.edx.org/executive-education/massachusetts-institute-of-technology-artificial-intelligence-implications-for-business-strategy', 'https://www.teachable.com/industry/fashion-and-beauty', 'https://www.edx.org/', 'https://www.thinkific.com/plus/referacustomer/', 'https://www.thinkific.com/case-studies/baking-business-success-story/', 'https://www.thinkific.com/solutions/market-leaders-companies/', 'https://www.learnworlds.com/scorm', 'https://www.thinkific.com/resources/', 'https://www.udemy.com/browse/certification/', 'https://www.edx.org/learn/government/harvard-university-american-government-constitutional-foundations', 'https://www.thinkific.com/features/coaching-webinars/', 'https://www.learnworlds.com/checkout-and-payments', 'https://www.edx.org/bachelors/online-bachelors-degree-finance', 'https://www.learnworlds.com/learning-liaisons', 'https://www.edx.org/bachelors/health-social-services', 'https://www.edx.org/masters/healthcare', 'https://www.learnworlds.com/integrations', 'https://www.thinkific.com/features/learning-communities/', 'https://www.thinkific.com/security-overview/', 'https://www.edx.org/masters/online-msw-programs', 'https://www.learnworlds.com/best-retail-lms/', 'https://www.hippovideo.io/webinars.html', 'https://www.learnworlds.com/for-business', 'https://www.edx.org/search?q=finance', 'https://www.thinkific.com/privacy-policy/', 'https://www.thinkific.com/legal/', 'https://www.edx.org/bachelors/business', 'https://www.learnworlds.com/coaching', 'https://www.edx.org/bachelors/social-work-bsw', 'https://www.edx.org/level-up-promo', 'https://www.thinkific.com', 'https://www.thinkific.com/case-studies/hootsuite/', 'https://www.teachable.com/industry/marketing-and-business', 'https://www.learnworlds.com/white-label-website', 'https://www.thinkific.com/features/memberships/', 'https://www.learnworlds.com/finance', 'https://www.learnworlds.com/analytics-and-reports', 'https://www.learnworlds.com/survey-builder', 'https://www.muvi.com/one/', 'https://www.thinkific.com/case-studies/chargebee/', 'https://www.muvi.com/entertainment/', 'https://www.thinkific.com/features/thinkific-payments/', 'https://www.muvi.com/ios-app/', 'https://www.thinkific.com/case-studies/schudio/', 'https://www.edx.org/masters/masters-in-public-health-online', 'https://www.teachable.com/industry/spirituality-and-worship', 'https://www.edx.org/learn/economics', 'https://www.learnworlds.com/improvpiano', 'https://www.hippovideo.io/industries/travel.html', 'https://www.teachable.com/industry/personal-development', 'https://www.thinkific.com/affiliates/', 'https://www.edx.org/learn/python', 'https://www.edx.org/become', 'https://www.learnworlds.com/creators', 'https://www.learnworlds.com/pricing/', 'https://www.thinkific.com/experts/', 'https://www.teachable.com/coaching', 'https://www.learnworlds.com/', 'https://www.teachable.com/industry/academics-and-languages', 'https://www.learnworlds.com/ai', 'https://www.thinkific.com/terms-of-service/', 'https://www.muvi.com', 'https://www.learnworlds.com/all-features', 'https://www.edx.org/bachelors', 'https://www.learnworlds.com/employee-training-lms', 'https://www.thinkific.com/solutions/customer-training/', 'https://www.thinkific.com/partners/', 'https://www.learnworlds.com', 'https://www.edx.org/learn/democracy/harvard-university-we-the-people-civic-engagement-in-a-constitutional-democracy', 'https://www.learnworlds.com/non-profit', 'https://www.edx.org', 'https://www.edx.org/search', 'https://www.edx.org/learn/project-management', 'https://www.learnworlds.com/bundles-and-subscriptions', 'https://www.thinkific.com/case-studies/keap/', 'https://www.proxlearn.com/live-virtual-summer-school', 'https://www.edx.org/learn/computer-science/harvard-university-cs50-s-introduction-to-computer-science', 'https://www.edx.org/search?q=data science', 'https://www.edx.org/bachelors/bachelors-in-public-health-online', 'https://www.learnworlds.com/customer-training-lms', 'https://www.thinkific.com/press/', 'https://www.learnworlds.com/affiliates', 'https://www.edx.org/become/how-to-become-a-software-engineer-without-a-degree', 'https://www.thinkific.com/case-studies/easily-excel-success-story/', 'https://www.edx.org/learn/spanish', 'https://www.learnworlds.com/custom-user-roles', 'https://www.thinkific.com/features/email-automation/', 'https://www.edx.org/learn', 'https://www.edx.org/bachelors/psychology', 'https://www.edx.org/search?q=ai', 'https://www.thinkific.com/solutions/academies/', 'https://www.thinkific.com/features/time-saving-tools/', 'https://www.learnworlds.com/assessment-builder', 'https://www.edx.org/become/how-to-become-a-cybersecurity-analyst']\n",
            "cs50s: ['https://www.edx.org/learn/economics', 'https://www.edx.org/executive-education/massachusetts-institute-of-technology-artificial-intelligence-implications-for-business-strategy', 'https://www.edx.org/masters/masters-in-education-online', 'https://www.edx.org/bachelors/online-accounting-bachelor-degree', 'https://www.edx.org/', 'https://www.edx.org/masters/online-masters-in-data-science', 'https://www.edx.org/learn/python', 'https://www.edx.org/become', 'https://www.edx.org/learn/excel', 'https://www.edx.org/learn/software-engineering', 'https://www.edx.org/learn/artificial-intelligence', 'https://www.edx.org/learn/computer-programming', 'https://www.edx.org/bachelors/computer-data-sciences', 'https://www.edx.org/become/how-to-become-a-software-developer', 'https://www.edx.org/learn/architecture', 'https://www.edx.org/learn/government/harvard-university-american-government-constitutional-foundations', 'https://www.edx.org/masters/online-slp-programs', 'https://www.edx.org/bachelors/online-bachelors-degree-finance', 'https://www.edx.org/become/how-to-become-a-social-media-manager', 'https://www.edx.org/bachelors/health-social-services', 'https://www.edx.org/masters/healthcare', 'https://www.edx.org/search?q=business', 'https://www.edx.org/bachelors', 'https://www.edx.org/masters/online-msw-programs', 'https://www.edx.org/masters/micromasters/mitx-supply-chain-management', 'https://www.edx.org/learn/chatgpt', 'https://www.edx.org/learn/democracy/harvard-university-we-the-people-civic-engagement-in-a-constitutional-democracy', 'https://www.edx.org/search?q=finance', 'https://www.edx.org/learn/blockchain', 'https://www.edx.org/learn/business-administration', 'https://www.edx.org', 'https://www.edx.org/search', 'https://www.edx.org/learn/project-management', 'https://www.edx.org/bachelors/business', 'https://www.edx.org/bachelors/social-work-bsw', 'https://www.edx.org/level-up-promo', 'https://www.edx.org/masters/online-mba', 'https://www.edx.org/masters/online-msn-programs', 'https://www.edx.org/learn/computer-science/harvard-university-cs50-s-introduction-to-computer-science', 'https://www.edx.org/search?q=data science', 'https://www.edx.org/bachelors/bachelors-in-public-health-online', 'https://www.edx.org/become/how-to-become-a-software-engineer-without-a-degree', 'https://www.edx.org/learn/spanish', 'https://www.edx.org/masters/online-masters-in-engineering', 'https://www.edx.org/learn', 'https://www.edx.org/bachelors/psychology', 'https://www.edx.org/search?q=ai', 'https://www.edx.org/become/how-to-become-a-data-scientist', 'https://www.edx.org/masters/masters-in-public-health-online', 'https://www.edx.org/become/how-to-become-a-cybersecurity-analyst']\n",
            "introduction: ['https://www.edx.org/learn/economics', 'https://www.edx.org/executive-education/massachusetts-institute-of-technology-artificial-intelligence-implications-for-business-strategy', 'https://www.hippovideo.io/video-marketing.html', 'https://www.edx.org/masters/masters-in-education-online', 'https://www.edx.org/bachelors/online-accounting-bachelor-degree', 'https://www.edx.org/', 'https://www.edx.org/masters/online-masters-in-data-science', 'https://www.edx.org/learn/python', 'https://www.edx.org/become', 'https://www.edx.org/learn/excel', 'https://www.edx.org/learn/software-engineering', 'https://www.edx.org/learn/artificial-intelligence', 'https://www.edx.org/learn/computer-programming', 'https://www.edx.org/bachelors/computer-data-sciences', 'https://www.edx.org/become/how-to-become-a-software-developer', 'https://www.edx.org/learn/architecture', 'https://www.edx.org/learn/government/harvard-university-american-government-constitutional-foundations', 'https://www.edx.org/masters/online-slp-programs', 'https://www.edx.org/bachelors/online-bachelors-degree-finance', 'https://www.edx.org/become/how-to-become-a-social-media-manager', 'https://www.edx.org/bachelors/health-social-services', 'https://www.edx.org/masters/healthcare', 'https://www.edx.org/search?q=business', 'https://www.edx.org/bachelors', 'https://www.edx.org/masters/online-msw-programs', 'https://www.edx.org/masters/micromasters/mitx-supply-chain-management', 'https://www.edx.org/learn/chatgpt', 'https://www.thinkific.com/blog/', 'https://www.edx.org/learn/democracy/harvard-university-we-the-people-civic-engagement-in-a-constitutional-democracy', 'https://www.edx.org/search?q=finance', 'https://www.edx.org/learn/blockchain', 'https://www.thinkific.com/cookies-policy/', 'https://www.edx.org/learn/business-administration', 'https://www.edx.org', 'https://www.edx.org/search', 'https://www.edx.org/learn/project-management', 'https://www.edx.org/bachelors/business', 'https://www.edx.org/bachelors/social-work-bsw', 'https://www.edx.org/level-up-promo', 'https://www.edx.org/masters/online-mba', 'https://www.edx.org/masters/online-msn-programs', 'https://www.edx.org/learn/computer-science/harvard-university-cs50-s-introduction-to-computer-science', 'https://www.edx.org/search?q=data science', 'https://www.edx.org/bachelors/bachelors-in-public-health-online', 'https://www.thinkific.com/faq/', 'https://www.hippovideo.io/video-email-guide.html', 'https://www.teachable.com/staff-picks', 'https://www.edx.org/become/how-to-become-a-software-engineer-without-a-degree', 'https://www.edx.org/learn/spanish', 'https://www.hippovideo.io/features/video-flows.html', 'https://www.edx.org/masters/online-masters-in-engineering', 'https://www.edx.org/learn', 'https://www.edx.org/bachelors/psychology', 'https://www.edx.org/search?q=ai', 'https://www.edx.org/become/how-to-become-a-data-scientist', 'https://www.edx.org/masters/masters-in-public-health-online', 'https://www.edx.org/become/how-to-become-a-cybersecurity-analyst']\n",
            "computer: ['https://www.edx.org/learn/economics', 'https://www.edx.org/executive-education/massachusetts-institute-of-technology-artificial-intelligence-implications-for-business-strategy', 'https://www.muvi.com/windows-desktop-app/', 'https://www.edx.org/masters/masters-in-education-online', 'https://www.edx.org/bachelors/online-accounting-bachelor-degree', 'https://www.edx.org/', 'https://www.muvi.com/one/online-video-platform/', 'https://www.edx.org/masters/online-masters-in-data-science', 'https://www.edx.org/learn/python', 'https://www.edx.org/become', 'https://www.edx.org/learn/excel', 'https://www.edx.org/learn/software-engineering', 'https://www.edx.org/learn/artificial-intelligence', 'https://www.edx.org/learn/computer-programming', 'https://www.edx.org/bachelors/computer-data-sciences', 'https://www.edx.org/become/how-to-become-a-software-developer', 'https://www.udemy.com/browse/certification/', 'https://www.edx.org/learn/architecture', 'https://www.thinkific.com/case-studies/miss-excel-online-course-tiktok-launch/', 'https://www.edx.org/learn/government/harvard-university-american-government-constitutional-foundations', 'https://www.edx.org/masters/online-slp-programs', 'https://www.edx.org/bachelors/online-bachelors-degree-finance', 'https://www.thinkific.com/terms-of-service/', 'https://www.edx.org/become/how-to-become-a-social-media-manager', 'https://www.edx.org/bachelors/health-social-services', 'https://www.edx.org/masters/healthcare', 'https://www.edx.org/search?q=business', 'https://www.edx.org/bachelors', 'https://www.edx.org/masters/online-msw-programs', 'https://www.edx.org/masters/micromasters/mitx-supply-chain-management', 'https://www.edx.org/learn/chatgpt', 'https://www.edx.org/learn/democracy/harvard-university-we-the-people-civic-engagement-in-a-constitutional-democracy', 'https://www.edx.org/search?q=finance', 'https://www.edx.org/learn/blockchain', 'https://fullmind.com/metodo-fullmind/istruzioni', 'https://www.edx.org/learn/business-administration', 'https://www.edx.org', 'https://www.edx.org/search', 'https://www.edx.org/learn/project-management', 'https://www.edx.org/bachelors/business', 'https://www.edx.org/bachelors/social-work-bsw', 'https://www.edx.org/level-up-promo', 'https://www.edx.org/masters/online-mba', 'https://www.edx.org/masters/online-msn-programs', 'https://www.edx.org/learn/computer-science/harvard-university-cs50-s-introduction-to-computer-science', 'https://www.edx.org/search?q=data science', 'https://www.edx.org/bachelors/bachelors-in-public-health-online', 'https://www.hippovideo.io/video-email-guide.html', 'https://www.teachable.com/staff-picks', 'https://www.thinkific.com/press/', 'https://www.edx.org/become/how-to-become-a-software-engineer-without-a-degree', 'https://www.thinkific.com/case-studies/easily-excel-success-story/', 'https://www.proxlearn.com/cyber-safety-tips-security-best-practices-proximity-learning', 'https://www.proxlearn.com/policies/terms-of-service', 'https://www.edx.org/learn/spanish', 'https://www.muvi.com/flex/video-hosting-platform/', 'https://www.edx.org/masters/online-masters-in-engineering', 'https://www.edx.org/learn', 'https://www.edx.org/bachelors/psychology', 'https://www.edx.org/search?q=ai', 'https://www.learnworlds.com/flexible-courses', 'https://www.edx.org/become/how-to-become-a-data-scientist', 'https://www.edx.org/masters/masters-in-public-health-online', 'https://www.edx.org/become/how-to-become-a-cybersecurity-analyst']\n",
            "science: ['https://www.edx.org/learn/economics', 'https://www.edx.org/executive-education/massachusetts-institute-of-technology-artificial-intelligence-implications-for-business-strategy', 'https://www.edx.org/masters/masters-in-education-online', 'https://www.teachable.com/pay', 'https://www.edx.org/bachelors/online-accounting-bachelor-degree', 'https://www.edx.org/', 'https://www.teachable.com/industry/personal-development', 'https://www.edx.org/masters/online-masters-in-data-science', 'https://www.edx.org/learn/python', 'https://www.edx.org/become', 'https://www.edx.org/learn/excel', 'https://www.edx.org/learn/software-engineering', 'https://www.edx.org/learn/artificial-intelligence', 'https://www.edx.org/learn/computer-programming', 'https://www.edx.org/bachelors/computer-data-sciences', 'https://www.edx.org/become/how-to-become-a-software-developer', 'https://www.proxlearn.com/teacher-support-network', 'https://www.edx.org/learn/architecture', 'https://www.proxlearn.com/courses', 'https://www.edx.org/learn/government/harvard-university-american-government-constitutional-foundations', 'https://www.edx.org/masters/online-slp-programs', 'https://www.edx.org/bachelors/online-bachelors-degree-finance', 'https://www.teachable.com/industry/academics-and-languages', 'https://www.proxlearn.com/teach-with-us', 'https://www.edx.org/become/how-to-become-a-social-media-manager', 'https://www.edx.org/bachelors/health-social-services', 'https://www.edx.org/masters/healthcare', 'https://www.edx.org/search?q=business', 'https://www.proxlearn.com#talk-to-us', 'https://www.edx.org/bachelors', 'https://www.proxlearn.com', 'https://www.edx.org/masters/online-msw-programs', 'https://www.edx.org/masters/micromasters/mitx-supply-chain-management', 'https://www.edx.org/learn/chatgpt', 'https://www.learnworlds.com/for-business', 'https://www.edx.org/learn/democracy/harvard-university-we-the-people-civic-engagement-in-a-constitutional-democracy', 'https://www.edx.org/search?q=finance', 'https://www.edx.org/learn/blockchain', 'https://www.edx.org/learn/business-administration', 'https://www.edx.org', 'https://www.edx.org/search', 'https://www.edx.org/learn/project-management', 'https://www.edx.org/bachelors/business', 'https://www.edx.org/bachelors/social-work-bsw', 'https://www.edx.org/level-up-promo', 'https://www.edx.org/masters/online-mba', 'https://www.edx.org/masters/online-msn-programs', 'https://www.edx.org/learn/computer-science/harvard-university-cs50-s-introduction-to-computer-science', 'https://www.edx.org/search?q=data science', 'https://www.edx.org/bachelors/bachelors-in-public-health-online', 'https://www.udemy.com/invite/', 'https://www.proxlearn.com/', 'https://www.thinkific.com/press/', 'https://www.edx.org/become/how-to-become-a-software-engineer-without-a-degree', 'https://www.thinkific.com/case-studies/easily-excel-success-story/', 'https://www.udemy.com/mobile/', 'https://www.edx.org/learn/spanish', 'https://www.edx.org/masters/online-masters-in-engineering', 'https://www.teachable.com/student-experience', 'https://www.edx.org/learn', 'https://www.edx.org/bachelors/psychology', 'https://www.edx.org/search?q=ai', 'https://www.edx.org/become/how-to-become-a-data-scientist', 'https://www.edx.org/masters/masters-in-public-health-online', 'https://www.edx.org/become/how-to-become-a-cybersecurity-analyst']\n",
            "harvardx: ['https://www.edx.org/learn/economics', 'https://www.edx.org/executive-education/massachusetts-institute-of-technology-artificial-intelligence-implications-for-business-strategy', 'https://www.edx.org/masters/masters-in-education-online', 'https://www.edx.org/bachelors/online-accounting-bachelor-degree', 'https://www.edx.org/', 'https://www.edx.org/masters/online-masters-in-data-science', 'https://www.edx.org/learn/python', 'https://www.edx.org/become', 'https://www.edx.org/learn/excel', 'https://www.edx.org/learn/software-engineering', 'https://www.edx.org/learn/artificial-intelligence', 'https://www.edx.org/learn/computer-programming', 'https://www.edx.org/bachelors/computer-data-sciences', 'https://www.edx.org/become/how-to-become-a-software-developer', 'https://www.edx.org/learn/architecture', 'https://www.edx.org/learn/government/harvard-university-american-government-constitutional-foundations', 'https://www.edx.org/masters/online-slp-programs', 'https://www.edx.org/bachelors/online-bachelors-degree-finance', 'https://www.edx.org/become/how-to-become-a-social-media-manager', 'https://www.edx.org/bachelors/health-social-services', 'https://www.edx.org/masters/healthcare', 'https://www.edx.org/search?q=business', 'https://www.edx.org/bachelors', 'https://www.edx.org/masters/online-msw-programs', 'https://www.edx.org/masters/micromasters/mitx-supply-chain-management', 'https://www.edx.org/learn/chatgpt', 'https://www.edx.org/learn/democracy/harvard-university-we-the-people-civic-engagement-in-a-constitutional-democracy', 'https://www.edx.org/search?q=finance', 'https://www.edx.org/learn/blockchain', 'https://www.edx.org/learn/business-administration', 'https://www.edx.org', 'https://www.edx.org/search', 'https://www.edx.org/learn/project-management', 'https://www.edx.org/bachelors/business', 'https://www.edx.org/bachelors/social-work-bsw', 'https://www.edx.org/level-up-promo', 'https://www.edx.org/masters/online-mba', 'https://www.edx.org/masters/online-msn-programs', 'https://www.edx.org/learn/computer-science/harvard-university-cs50-s-introduction-to-computer-science', 'https://www.edx.org/search?q=data science', 'https://www.edx.org/bachelors/bachelors-in-public-health-online', 'https://www.edx.org/become/how-to-become-a-software-engineer-without-a-degree', 'https://www.edx.org/learn/spanish', 'https://www.edx.org/masters/online-masters-in-engineering', 'https://www.edx.org/learn', 'https://www.edx.org/bachelors/psychology', 'https://www.edx.org/search?q=ai', 'https://www.edx.org/become/how-to-become-a-data-scientist', 'https://www.edx.org/masters/masters-in-public-health-online', 'https://www.edx.org/become/how-to-become-a-cybersecurity-analyst']\n",
            "course: ['https://www.learnworlds.com/nailarts', 'https://www.thinkific.com/solutions/revenue-generation/', 'https://www.teachable.com/grow-your-business', 'https://www.edx.org/masters/masters-in-education-online', 'https://www.thinkific.com/about/', 'https://www.teachable.com/pay', 'https://www.learnworlds.com/blog', 'https://www.edx.org/bachelors/online-accounting-bachelor-degree', 'https://www.edx.org/masters/online-masters-in-data-science', 'https://www.teachable.com/house-rules', 'https://www.teachable.com/examples', 'https://www.edx.org/learn/excel', 'https://www.edx.org/learn/artificial-intelligence', 'https://www.edx.org/become/how-to-become-a-software-developer', 'https://www.learnworlds.com/solutions', 'https://www.teachable.com/b/news/creator-stories', 'https://www.learnworlds.com/popup-builder', 'https://www.thinkific.com/features/analytics/', 'https://www.thinkific.com/features/courses/', 'https://www.thinkific.com/features/landing-pages/', 'https://www.learnworlds.com/health', 'https://www.teachable.com/industry/lifestyle', 'https://www.learnworlds.com/how-to-build-a-coaching-program/', 'https://www.learnworlds.com/live-sessions', 'https://www.muvi.com/healthcare/', 'https://www.edx.org/masters/micromasters/mitx-supply-chain-management', 'https://www.thinkific.com/blog/', 'https://www.teachable.com/ai-hub', 'https://www.edx.org/masters/online-mba', 'https://www.learnworlds.com/marketing-tools', 'https://www.teachable.com/industry/health-and-fitness', 'https://www.learnworlds.com/interactive-video', 'https://www.edx.org/masters/online-msn-programs', 'https://www.learnworlds.com/built-smarter-academy/', 'https://www.thinkific.com/case-studies/flashpoint/', 'https://www.proxlearn.com/', 'https://www.teachable.com/sales-and-marketing', 'https://www.thinkific.com/pricing/', 'https://www.learnworlds.com/watch-demo', 'https://www.teachable.com/memberships', 'https://www.learnworlds.com/resources', 'https://www.proxlearn.com/in-person-schools', 'https://www.learnworlds.com/calisthenics', 'https://www.teachable.com/about', 'https://www.thinkific.com/faq/', 'https://www.thinkific.com/examples/', 'https://www.teachable.com/products', 'https://www.hippovideo.io/all-features.html', 'https://www.teachable.com/app-hub', 'https://www.learnworlds.com/case-studies', 'https://www.teachable.com/industry/finance-and-investing', 'https://www.edx.org/learn/software-engineering', 'https://www.edx.org/bachelors/computer-data-sciences', 'https://www.edx.org/learn/computer-programming', 'https://www.learnworlds.com/website-builder', 'https://www.edx.org/learn/architecture', 'https://www.thinkific.com/case-studies/miss-excel-online-course-tiktok-launch/', 'https://www.teachable.com/online-courses', 'https://www.learnworlds.com/droneit', 'https://www.learnworlds.com/daily-webinars', 'https://www.thinkific.com/case-studies/', 'https://www.edx.org/masters/online-slp-programs', 'https://www.edx.org/become/how-to-become-a-social-media-manager', 'https://www.edx.org/search?q=business', 'https://www.thinkific.com/solutions/subject-matter-experts/', 'https://www.thinkific.com/', 'https://www.teachable.com/industry/arts-and-crafting', 'https://www.teachable.com', 'https://www.edx.org/learn/chatgpt', 'https://www.edx.org/learn/blockchain', 'https://www.edx.org/learn/business-administration', 'https://www.teachable.com/start-your-business', 'https://www.teachable.com/press', 'https://www.learnworlds.com/experts-directory/', 'https://www.teachable.com/expand-your-business', 'https://www.proxlearn.com/by-the-numbers', 'https://www.teachable.com/staff-picks', 'https://www.learnworlds.com/how-to-sell-corporate-training-programs/', 'https://www.thinkific.com/plus/', 'https://www.teachable.com/industry/software-and-technology', 'https://www.learnworlds.com/enterprise-lms', 'https://www.learnworlds.com/fitness', 'https://www.edx.org/masters/online-masters-in-engineering', 'https://www.learnworlds.com/mobile-app', 'https://www.learnworlds.com/flexible-courses', 'https://www.edx.org/become/how-to-become-a-data-scientist', 'https://www.learnworlds.com/ai-central', 'https://www.teachable.com/analytics-and-reporting', 'https://www.edx.org/executive-education/massachusetts-institute-of-technology-artificial-intelligence-implications-for-business-strategy', 'https://www.proxlearn.com/teacher-excellence', 'https://www.teachable.com/industry/fashion-and-beauty', 'https://www.edx.org/', 'https://www.muvi.com/education/', 'https://www.teachable.com/blog', 'https://www.muvi.com/one/pricing/', 'https://www.thinkific.com/case-studies/baking-business-success-story/', 'https://www.thinkific.com/solutions/market-leaders-companies/', 'https://www.learnworlds.com/scorm', 'https://www.thinkific.com/resources/', 'https://www.udemy.com/browse/certification/', 'https://www.edx.org/learn/government/harvard-university-american-government-constitutional-foundations', 'https://www.learnworlds.com/checkout-and-payments', 'https://www.edx.org/bachelors/online-bachelors-degree-finance', 'https://www.proxlearn.com/live-virtual-k-12-education', 'https://www.learnworlds.com/learning-liaisons', 'https://www.edx.org/bachelors/health-social-services', 'https://www.edx.org/masters/healthcare', 'https://www.learnworlds.com/integrations', 'https://www.thinkific.com/features/learning-communities/', 'https://www.thinkific.com/security-overview/', 'https://www.edx.org/masters/online-msw-programs', 'https://www.teachable.com/mobile-app', 'https://www.learnworlds.com/best-retail-lms/', 'https://www.teachable.com/digital-downloads', 'https://www.learnworlds.com/for-business', 'https://www.edx.org/search?q=finance', 'https://www.thinkific.com/privacy-policy/', 'https://www.edx.org/bachelors/business', 'https://www.learnworlds.com/coaching', 'https://www.edx.org/bachelors/social-work-bsw', 'https://www.edx.org/level-up-promo', 'https://www.thinkific.com', 'https://www.thinkific.com/case-studies/hootsuite/', 'https://www.teachable.com/industry/marketing-and-business', 'https://www.learnworlds.com/white-label-website', 'https://www.dacast.com/online-video-education-platform/', 'https://www.learnworlds.com/finance', 'https://www.learnworlds.com/analytics-and-reports', 'https://www.learnworlds.com/survey-builder', 'https://www.teachable.com/features', 'https://www.muvi.com/one/', 'https://www.teachable.com/community', 'https://www.thinkific.com/case-studies/chargebee/', 'https://www.teachable.com/student-experience', 'https://www.proxlearn.com', 'https://www.thinkific.com/case-studies/schudio/', 'https://www.edx.org/masters/masters-in-public-health-online', 'https://www.teachable.com/industry/spirituality-and-worship', 'https://www.teachable.com/events', 'https://www.edx.org/learn/economics', 'https://www.learnworlds.com/improvpiano', 'https://www.teachable.com/experts', 'https://www.teachable.com/industry/personal-development', 'https://www.thinkific.com/affiliates/', 'https://www.edx.org/learn/python', 'https://www.edx.org/become', 'https://www.learnworlds.com/creators', 'https://www.learnworlds.com/pricing/', 'https://www.teachable.com/creator-support-services', 'https://www.thinkific.com/experts/', 'https://www.teachable.com/coaching', 'https://www.teachable.com/', 'https://www.teachable.com/industry/academics-and-languages', 'https://www.teachable.com/teachable-u', 'https://www.thinkific.com/terms-of-service/', 'https://www.learnworlds.com/', 'https://www.learnworlds.com/ai', 'https://www.teachable.com/guides-and-how-tos', 'https://www.learnworlds.com/all-features', 'https://www.proxlearn.com#talk-to-us', 'https://www.edx.org/bachelors', 'https://www.learnworlds.com/employee-training-lms', 'https://www.thinkific.com/solutions/customer-training/', 'https://www.teachable.com/advanced-features', 'https://www.teachable.com/teachable-for-business', 'https://www.thinkific.com/partners/', 'https://www.learnworlds.com', 'https://www.edx.org/learn/democracy/harvard-university-we-the-people-civic-engagement-in-a-constitutional-democracy', 'https://www.learnworlds.com/non-profit', 'https://www.teachable.com/site-builder', 'https://www.edx.org', 'https://www.edx.org/search', 'https://www.edx.org/learn/project-management', 'https://www.learnworlds.com/bundles-and-subscriptions', 'https://www.teachable.com/resources', 'https://www.thinkific.com/case-studies/keap/', 'https://www.edx.org/learn/computer-science/harvard-university-cs50-s-introduction-to-computer-science', 'https://www.edx.org/search?q=data science', 'https://www.edx.org/bachelors/bachelors-in-public-health-online', 'https://www.learnworlds.com/customer-training-lms', 'https://www.teachable.com/pricing', 'https://www.thinkific.com/press/', 'https://www.learnworlds.com/affiliates', 'https://www.edx.org/become/how-to-become-a-software-engineer-without-a-degree', 'https://www.thinkific.com/case-studies/easily-excel-success-story/', 'https://www.edx.org/learn/spanish', 'https://www.learnworlds.com/custom-user-roles', 'https://www.thinkific.com/features/email-automation/', 'https://www.edx.org/learn', 'https://www.edx.org/bachelors/psychology', 'https://www.edx.org/search?q=ai', 'https://www.thinkific.com/solutions/academies/', 'https://www.thinkific.com/features/time-saving-tools/', 'https://www.learnworlds.com/assessment-builder', 'https://www.edx.org/become/how-to-become-a-cybersecurity-analyst']\n",
            "artificial: ['https://www.learnworlds.com/nailarts', 'https://www.edx.org/masters/masters-in-education-online', 'https://www.learnworlds.com/blog', 'https://www.edx.org/bachelors/online-accounting-bachelor-degree', 'https://www.edx.org/masters/online-masters-in-data-science', 'https://www.edx.org/learn/excel', 'https://www.edx.org/learn/artificial-intelligence', 'https://www.edx.org/become/how-to-become-a-software-developer', 'https://www.learnworlds.com/solutions', 'https://www.learnworlds.com/popup-builder', 'https://www.learnworlds.com/health', 'https://www.learnworlds.com/how-to-build-a-coaching-program/', 'https://www.learnworlds.com/live-sessions', 'https://www.edx.org/masters/micromasters/mitx-supply-chain-management', 'https://www.edx.org/masters/online-mba', 'https://www.learnworlds.com/marketing-tools', 'https://www.learnworlds.com/interactive-video', 'https://www.edx.org/masters/online-msn-programs', 'https://www.learnworlds.com/built-smarter-academy/', 'https://www.learnworlds.com/watch-demo', 'https://www.learnworlds.com/resources', 'https://www.learnworlds.com/calisthenics', 'https://www.learnworlds.com/case-studies', 'https://www.edx.org/learn/software-engineering', 'https://www.edx.org/bachelors/computer-data-sciences', 'https://www.edx.org/learn/computer-programming', 'https://www.learnworlds.com/website-builder', 'https://www.edx.org/learn/architecture', 'https://www.learnworlds.com/daily-webinars', 'https://www.learnworlds.com/droneit', 'https://www.edx.org/masters/online-slp-programs', 'https://www.edx.org/become/how-to-become-a-social-media-manager', 'https://www.edx.org/search?q=business', 'https://www.edx.org/learn/chatgpt', 'https://www.edx.org/learn/blockchain', 'https://www.edx.org/learn/business-administration', 'https://www.learnworlds.com/experts-directory/', 'https://www.learnworlds.com/how-to-sell-corporate-training-programs/', 'https://www.learnworlds.com/enterprise-lms', 'https://www.learnworlds.com/fitness', 'https://www.edx.org/masters/online-masters-in-engineering', 'https://www.learnworlds.com/mobile-app', 'https://www.learnworlds.com/flexible-courses', 'https://www.edx.org/become/how-to-become-a-data-scientist', 'https://www.learnworlds.com/ai-central', 'https://www.edx.org/executive-education/massachusetts-institute-of-technology-artificial-intelligence-implications-for-business-strategy', 'https://www.edx.org/', 'https://www.learnworlds.com/scorm', 'https://www.udemy.com/browse/certification/', 'https://www.edx.org/learn/government/harvard-university-american-government-constitutional-foundations', 'https://www.learnworlds.com/checkout-and-payments', 'https://www.edx.org/bachelors/online-bachelors-degree-finance', 'https://www.learnworlds.com/learning-liaisons', 'https://www.edx.org/bachelors/health-social-services', 'https://www.edx.org/masters/healthcare', 'https://www.learnworlds.com/integrations', 'https://www.edx.org/masters/online-msw-programs', 'https://www.learnworlds.com/best-retail-lms/', 'https://www.learnworlds.com/for-business', 'https://www.edx.org/search?q=finance', 'https://www.hippovideo.io/features/ai-video-script-generator.html', 'https://www.edx.org/bachelors/business', 'https://www.learnworlds.com/coaching', 'https://www.edx.org/bachelors/social-work-bsw', 'https://www.edx.org/level-up-promo', 'https://www.learnworlds.com/white-label-website', 'https://www.learnworlds.com/finance', 'https://www.learnworlds.com/analytics-and-reports', 'https://www.learnworlds.com/survey-builder', 'https://www.edx.org/masters/masters-in-public-health-online', 'https://www.edx.org/learn/economics', 'https://www.edx.org/learn/python', 'https://www.edx.org/become', 'https://www.learnworlds.com/creators', 'https://www.learnworlds.com/pricing/', 'https://www.learnworlds.com/', 'https://www.learnworlds.com/ai', 'https://www.thinkific.com/terms-of-service/', 'https://www.learnworlds.com/all-features', 'https://www.edx.org/bachelors', 'https://www.learnworlds.com/employee-training-lms', 'https://www.learnworlds.com', 'https://www.edx.org/learn/democracy/harvard-university-we-the-people-civic-engagement-in-a-constitutional-democracy', 'https://www.learnworlds.com/non-profit', 'https://www.learnworlds.com/bundles-and-subscriptions', 'https://www.edx.org', 'https://www.edx.org/search', 'https://www.edx.org/learn/project-management', 'https://www.edx.org/learn/computer-science/harvard-university-cs50-s-introduction-to-computer-science', 'https://www.edx.org/search?q=data science', 'https://www.edx.org/bachelors/bachelors-in-public-health-online', 'https://www.learnworlds.com/customer-training-lms', 'https://www.learnworlds.com/affiliates', 'https://www.edx.org/become/how-to-become-a-software-engineer-without-a-degree', 'https://www.edx.org/learn/spanish', 'https://www.learnworlds.com/custom-user-roles', 'https://www.edx.org/learn', 'https://www.edx.org/bachelors/psychology', 'https://www.edx.org/search?q=ai', 'https://www.learnworlds.com/improvpiano', 'https://www.learnworlds.com/assessment-builder', 'https://www.edx.org/become/how-to-become-a-cybersecurity-analyst']\n",
            "intelligence: ['https://www.learnworlds.com/nailarts', 'https://www.muvi.com/judiciary/', 'https://www.edx.org/masters/masters-in-education-online', 'https://www.learnworlds.com/blog', 'https://www.edx.org/bachelors/online-accounting-bachelor-degree', 'https://www.edx.org/masters/online-masters-in-data-science', 'https://www.edx.org/learn/excel', 'https://www.edx.org/learn/artificial-intelligence', 'https://www.edx.org/become/how-to-become-a-software-developer', 'https://www.learnworlds.com/solutions', 'https://www.learnworlds.com/popup-builder', 'https://www.learnworlds.com/health', 'https://www.learnworlds.com/how-to-build-a-coaching-program/', 'https://www.learnworlds.com/live-sessions', 'https://www.edx.org/masters/micromasters/mitx-supply-chain-management', 'https://www.edx.org/masters/online-mba', 'https://www.learnworlds.com/marketing-tools', 'https://www.learnworlds.com/interactive-video', 'https://www.edx.org/masters/online-msn-programs', 'https://www.learnworlds.com/built-smarter-academy/', 'https://www.thinkific.com/case-studies/flashpoint/', 'https://www.learnworlds.com/watch-demo', 'https://www.learnworlds.com/resources', 'https://www.learnworlds.com/calisthenics', 'https://www.learnworlds.com/case-studies', 'https://www.edx.org/learn/software-engineering', 'https://www.edx.org/bachelors/computer-data-sciences', 'https://www.edx.org/learn/computer-programming', 'https://www.learnworlds.com/website-builder', 'https://www.edx.org/learn/architecture', 'https://www.learnworlds.com/daily-webinars', 'https://www.learnworlds.com/droneit', 'https://www.edx.org/masters/online-slp-programs', 'https://www.edx.org/become/how-to-become-a-social-media-manager', 'https://www.edx.org/search?q=business', 'https://www.edx.org/learn/chatgpt', 'https://www.edx.org/learn/blockchain', 'https://www.edx.org/learn/business-administration', 'https://www.learnworlds.com/experts-directory/', 'https://www.udemy.com/invite/', 'https://www.learnworlds.com/how-to-sell-corporate-training-programs/', 'https://www.learnworlds.com/enterprise-lms', 'https://www.learnworlds.com/fitness', 'https://www.edx.org/masters/online-masters-in-engineering', 'https://www.learnworlds.com/mobile-app', 'https://www.learnworlds.com/flexible-courses', 'https://www.edx.org/become/how-to-become-a-data-scientist', 'https://www.learnworlds.com/ai-central', 'https://www.edx.org/executive-education/massachusetts-institute-of-technology-artificial-intelligence-implications-for-business-strategy', 'https://www.edx.org/', 'https://www.learnworlds.com/scorm', 'https://www.udemy.com/browse/certification/', 'https://www.edx.org/learn/government/harvard-university-american-government-constitutional-foundations', 'https://www.learnworlds.com/checkout-and-payments', 'https://www.edx.org/bachelors/online-bachelors-degree-finance', 'https://www.learnworlds.com/learning-liaisons', 'https://www.edx.org/bachelors/health-social-services', 'https://www.edx.org/masters/healthcare', 'https://www.learnworlds.com/integrations', 'https://www.thinkific.com/security-overview/', 'https://www.edx.org/masters/online-msw-programs', 'https://www.learnworlds.com/best-retail-lms/', 'https://www.learnworlds.com/for-business', 'https://www.edx.org/search?q=finance', 'https://www.hippovideo.io/features/ai-video-script-generator.html', 'https://www.edx.org/bachelors/business', 'https://www.learnworlds.com/coaching', 'https://www.edx.org/bachelors/social-work-bsw', 'https://www.edx.org/level-up-promo', 'https://www.learnworlds.com/white-label-website', 'https://www.learnworlds.com/finance', 'https://www.learnworlds.com/analytics-and-reports', 'https://www.learnworlds.com/survey-builder', 'https://www.udemy.com/mobile/', 'https://www.edx.org/masters/masters-in-public-health-online', 'https://www.edx.org/learn/economics', 'https://www.teachable.com/industry/personal-development', 'https://www.edx.org/learn/python', 'https://www.edx.org/become', 'https://www.learnworlds.com/creators', 'https://www.learnworlds.com/pricing/', 'https://www.muvi.com/alie/', 'https://www.learnworlds.com/', 'https://www.learnworlds.com/ai', 'https://www.thinkific.com/terms-of-service/', 'https://www.learnworlds.com/all-features', 'https://www.edx.org/bachelors', 'https://www.learnworlds.com/employee-training-lms', 'https://www.learnworlds.com', 'https://www.edx.org/learn/democracy/harvard-university-we-the-people-civic-engagement-in-a-constitutional-democracy', 'https://www.learnworlds.com/non-profit', 'https://www.learnworlds.com/bundles-and-subscriptions', 'https://www.edx.org', 'https://www.edx.org/search', 'https://www.edx.org/learn/project-management', 'https://www.edx.org/learn/computer-science/harvard-university-cs50-s-introduction-to-computer-science', 'https://www.edx.org/search?q=data science', 'https://www.edx.org/bachelors/bachelors-in-public-health-online', 'https://www.learnworlds.com/customer-training-lms', 'https://www.hippovideo.io/integrations/video-for-salesloft.html', 'https://www.learnworlds.com/affiliates', 'https://www.edx.org/become/how-to-become-a-software-engineer-without-a-degree', 'https://www.edx.org/learn/spanish', 'https://www.learnworlds.com/custom-user-roles', 'https://www.edx.org/learn', 'https://www.edx.org/bachelors/psychology', 'https://www.edx.org/search?q=ai', 'https://www.learnworlds.com/improvpiano', 'https://www.learnworlds.com/assessment-builder', 'https://www.edx.org/become/how-to-become-a-cybersecurity-analyst']\n",
            "implications: ['https://www.edx.org/learn/economics', 'https://www.learnworlds.com/ai-central', 'https://www.edx.org/executive-education/massachusetts-institute-of-technology-artificial-intelligence-implications-for-business-strategy', 'https://www.edx.org/masters/masters-in-education-online', 'https://www.edx.org/bachelors/online-accounting-bachelor-degree', 'https://www.edx.org/', 'https://www.edx.org/masters/online-masters-in-data-science', 'https://www.edx.org/learn/python', 'https://www.edx.org/become', 'https://www.edx.org/learn/excel', 'https://www.edx.org/learn/software-engineering', 'https://www.edx.org/learn/artificial-intelligence', 'https://www.edx.org/learn/computer-programming', 'https://www.edx.org/bachelors/computer-data-sciences', 'https://www.edx.org/become/how-to-become-a-software-developer', 'https://www.edx.org/learn/architecture', 'https://www.edx.org/learn/government/harvard-university-american-government-constitutional-foundations', 'https://www.edx.org/masters/online-slp-programs', 'https://www.edx.org/bachelors/online-bachelors-degree-finance', 'https://www.edx.org/become/how-to-become-a-social-media-manager', 'https://www.edx.org/bachelors/health-social-services', 'https://www.edx.org/masters/healthcare', 'https://www.edx.org/search?q=business', 'https://www.edx.org/bachelors', 'https://www.edx.org/masters/online-msw-programs', 'https://www.edx.org/masters/micromasters/mitx-supply-chain-management', 'https://www.edx.org/learn/chatgpt', 'https://www.edx.org/learn/democracy/harvard-university-we-the-people-civic-engagement-in-a-constitutional-democracy', 'https://www.edx.org/search?q=finance', 'https://www.edx.org/learn/blockchain', 'https://www.edx.org/learn/business-administration', 'https://www.edx.org', 'https://www.edx.org/search', 'https://www.edx.org/learn/project-management', 'https://www.edx.org/bachelors/business', 'https://www.edx.org/bachelors/social-work-bsw', 'https://www.edx.org/level-up-promo', 'https://www.edx.org/masters/online-mba', 'https://www.edx.org/masters/online-msn-programs', 'https://www.edx.org/learn/computer-science/harvard-university-cs50-s-introduction-to-computer-science', 'https://www.edx.org/search?q=data science', 'https://www.edx.org/bachelors/bachelors-in-public-health-online', 'https://www.edx.org/become/how-to-become-a-software-engineer-without-a-degree', 'https://www.edx.org/learn/spanish', 'https://www.learnworlds.com/resources', 'https://www.edx.org/masters/online-masters-in-engineering', 'https://www.edx.org/learn', 'https://www.edx.org/bachelors/psychology', 'https://www.edx.org/search?q=ai', 'https://www.edx.org/become/how-to-become-a-data-scientist', 'https://www.edx.org/masters/masters-in-public-health-online', 'https://www.edx.org/become/how-to-become-a-cybersecurity-analyst']\n"
          ]
        }
      ]
    },
    {
      "cell_type": "code",
      "source": [
        "# Print first 20 connections\n",
        "for source, target in list(zip(web_connection['source'], web_connection['target']))[:20]:\n",
        "    print(f\"{source} -> {target}\")"
      ],
      "metadata": {
        "colab": {
          "base_uri": "https://localhost:8080/"
        },
        "id": "VX1o9A2cTvsc",
        "outputId": "abc22096-bbca-4daf-af14-cdda4eaa9680"
      },
      "execution_count": 15,
      "outputs": [
        {
          "output_type": "stream",
          "name": "stdout",
          "text": [
            "https://www.edx.org -> https://www.edx.org/\n",
            "https://www.edx.org/ -> https://www.edx.org/\n",
            "https://www.edx.org/ -> https://www.edx.org/learn/computer-science/harvard-university-cs50-s-introduction-to-computer-science\n",
            "https://www.edx.org/ -> https://www.edx.org/executive-education/massachusetts-institute-of-technology-artificial-intelligence-implications-for-business-strategy\n",
            "https://www.edx.org/ -> https://www.edx.org/masters/micromasters/mitx-supply-chain-management\n",
            "https://www.edx.org/ -> https://www.edx.org/learn/government/harvard-university-american-government-constitutional-foundations\n",
            "https://www.edx.org/ -> https://www.edx.org/learn/democracy/harvard-university-we-the-people-civic-engagement-in-a-constitutional-democracy\n",
            "https://www.edx.org/ -> https://www.edx.org/search?q=data science\n",
            "https://www.edx.org/ -> https://www.edx.org/search?q=ai\n",
            "https://www.edx.org/ -> https://www.edx.org/search?q=finance\n",
            "https://www.edx.org/ -> https://www.edx.org/search?q=business\n",
            "https://www.edx.org/ -> https://www.edx.org/search\n",
            "https://www.edx.org/ -> https://business.edx.org\n",
            "https://www.edx.org/ -> https://www.edx.org/level-up-promo\n",
            "https://www.edx.org/ -> https://www.edx.org/\n",
            "https://www.edx.org/ -> https://www.edx.org/level-up-promo\n",
            "https://www.edx.org/ -> https://www.edx.org/\n",
            "https://www.edx.org/ -> https://www.facebook.com/edx/\n",
            "https://www.edx.org/ -> https://x.com/edXOnline\n",
            "https://www.edx.org/ -> https://www.linkedin.com/school/edx/\n"
          ]
        }
      ]
    },
    {
      "cell_type": "markdown",
      "source": [
        "# Creating graph from web connections"
      ],
      "metadata": {
        "id": "6mwdTNbjAYyc"
      }
    },
    {
      "cell_type": "code",
      "source": [
        "web_graph = nx.DiGraph()\n",
        "for source, target in zip(web_connection['source'], web_connection['target']):\n",
        "  web_graph.add_edge(source, target) # Iterate through source and target lists using zip"
      ],
      "metadata": {
        "id": "4LlD6pQfWiL9"
      },
      "execution_count": 16,
      "outputs": []
    },
    {
      "cell_type": "code",
      "source": [
        "import matplotlib.pyplot as plt\n",
        "\n",
        "plt.figure(figsize=(20, 30))\n",
        "\n",
        "# Layout and draw\n",
        "pos = nx.spring_layout(web_graph, k=0.5, seed=42)\n",
        "nx.draw(\n",
        "    web_graph,\n",
        "    pos=pos,\n",
        "    with_labels=True,\n",
        "    node_size=500,\n",
        "    node_color=\"skyblue\",\n",
        "    font_size=8,\n",
        "    font_color=\"black\",\n",
        "    arrowsize=10\n",
        ")\n",
        "plt.tight_layout()\n",
        "plt.show()"
      ],
      "metadata": {
        "id": "REECRckg-6h4"
      },
      "execution_count": null,
      "outputs": []
    },
    {
      "cell_type": "markdown",
      "source": [
        "# Calculating PageRank Scores"
      ],
      "metadata": {
        "id": "OyuCS_2o_VQK"
      }
    },
    {
      "cell_type": "code",
      "source": [
        "pagerank_scores = nx.pagerank(web_graph, alpha=0.85, max_iter=100, tol=1e-6)"
      ],
      "metadata": {
        "id": "buR8TjxYWi6F"
      },
      "execution_count": null,
      "outputs": []
    },
    {
      "cell_type": "markdown",
      "source": [
        "# Search Function"
      ],
      "metadata": {
        "id": "6t41e8Bp_gOd"
      }
    },
    {
      "cell_type": "code",
      "source": [
        "def search_engine(query, index, scores):\n",
        "    query_terms = query.lower().split()\n",
        "    results = set()\n",
        "    for term in query_terms:\n",
        "        if term in index:\n",
        "            if not results:\n",
        "                results = set(index[term])\n",
        "            else:\n",
        "                results = results.intersection(index[term])  # Find common websites\n",
        "\n",
        "    # Sort results based on score\n",
        "    ranked_results = []\n",
        "    for website in results:\n",
        "        if website in scores:\n",
        "          ranked_results.append((website, scores[website]))\n",
        "    ranked_results.sort(key=lambda x: x[1], reverse=True)\n",
        "\n",
        "    return ranked_results"
      ],
      "metadata": {
        "id": "gxXsLcg1UiKs"
      },
      "execution_count": null,
      "outputs": []
    },
    {
      "cell_type": "markdown",
      "source": [
        "# Query and display results"
      ],
      "metadata": {
        "id": "aUOItstj_oJx"
      }
    },
    {
      "cell_type": "code",
      "source": [
        "query = \"math\"\n",
        "print(f\"\\nSearch Results for '{query}' using PageRank:\")\n",
        "results = search_engine(query, inverted_index, pagerank_scores)\n",
        "\n",
        "for page, score in results:\n",
        "    print(f\"{page}: ({score})\")"
      ],
      "metadata": {
        "id": "wIYrW6uHUu6s"
      },
      "execution_count": null,
      "outputs": []
    }
  ]
}